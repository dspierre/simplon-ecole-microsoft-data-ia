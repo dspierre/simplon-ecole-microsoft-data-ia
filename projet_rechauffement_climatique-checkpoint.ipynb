{
 "cells": [
  {
   "cell_type": "code",
   "execution_count": 1,
   "metadata": {
    "colab": {},
    "colab_type": "code",
    "id": "Isj4rb1WTa7A"
   },
   "outputs": [],
   "source": [
    "##présentation de ce projet il à pour but de sensibiliser au réchaufement climatique"
   ]
  },
  {
   "cell_type": "code",
   "execution_count": 2,
   "metadata": {
    "colab": {},
    "colab_type": "code",
    "id": "5pCBSj_1Tghs"
   },
   "outputs": [],
   "source": [
    "#étapes 1:\n",
    "#créer la base de donnée via mongodb\n",
    "# étapes 2:\n",
    "#études des données et datacleaning\n",
    "# étapes 3:\n",
    "# dataprocessing\n",
    "#étapes 4:\n",
    "#algorythme de regression linéaire\n",
    "#étapes 5:\n",
    "#algorythme de regression logistique\n",
    "#étapes 6:\n",
    "#algorythme de regression polynomiale\n",
    "#étapes 7:\n",
    "#algorythme de SVR\n",
    "#étapes 8:\n",
    "#Données temporel \n",
    "#étapes 9:\n",
    "#application flask ou django "
   ]
  },
  {
   "cell_type": "code",
   "execution_count": 3,
   "metadata": {
    "colab": {
     "base_uri": "https://localhost:8080/",
     "height": 72
    },
    "colab_type": "code",
    "id": "Sc8U_qPFTmB6",
    "outputId": "e76635d8-14c2-48cb-e539-ce0c8f12d4e7"
   },
   "outputs": [],
   "source": [
    "import numpy as np \n",
    "import pandas as pd \n",
    "from sklearn import preprocessing\n",
    "from sklearn.model_selection import train_test_split\n",
    "import matplotlib.pyplot as plt \n",
    "import seaborn as sns\n",
    "import pymongo"
   ]
  },
  {
   "cell_type": "code",
   "execution_count": null,
   "metadata": {
    "colab": {},
    "colab_type": "code",
    "id": "5MV6lGjTTwsn"
   },
   "outputs": [],
   "source": [
    "## études du dataset GlobalLandTemperaturesByCity"
   ]
  },
  {
   "cell_type": "code",
   "execution_count": 4,
   "metadata": {
    "colab": {},
    "colab_type": "code",
    "id": "FNVZ3VrlULQb"
   },
   "outputs": [],
   "source": [
    "GlobalLandTemperaturesByCity_df = pd.read_csv('GlobalLandTemperaturesByCity.csv', sep=',')"
   ]
  },
  {
   "cell_type": "code",
   "execution_count": null,
   "metadata": {
    "colab": {
     "base_uri": "https://localhost:8080/",
     "height": 347
    },
    "colab_type": "code",
    "id": "xTl5C3rkUR-p",
    "outputId": "7a9a83f2-674e-44f3-a99f-1df5171cfc20"
   },
   "outputs": [],
   "source": [
    "GlobalLandTemperaturesByCity_df.head(10)"
   ]
  },
  {
   "cell_type": "code",
   "execution_count": 5,
   "metadata": {
    "colab": {
     "base_uri": "https://localhost:8080/",
     "height": 34
    },
    "colab_type": "code",
    "id": "OBfLEkj7UXBg",
    "outputId": "3944b8df-1832-482f-bc46-d6242e983112"
   },
   "outputs": [
    {
     "name": "stdout",
     "output_type": "stream",
     "text": [
      "Le dataframe GlobalLandTemperaturesByCity a (120099, 7) lignes et colonnes\n"
     ]
    }
   ],
   "source": [
    "print('Le dataframe GlobalLandTemperaturesByCity a {} lignes et colonnes'.format(GlobalLandTemperaturesByCity_df.shape))"
   ]
  },
  {
   "cell_type": "code",
   "execution_count": 6,
   "metadata": {
    "colab": {
     "base_uri": "https://localhost:8080/",
     "height": 70
    },
    "colab_type": "code",
    "id": "LH_JK3eyUa1x",
    "outputId": "69e57e5a-9ad6-4082-afe8-548fc4c264c4"
   },
   "outputs": [
    {
     "name": "stdout",
     "output_type": "stream",
     "text": [
      "Les colonnes de GlobalLandTemperaturesByCity sont Index(['dt', 'AverageTemperature', 'AverageTemperatureUncertainty', 'City',\n",
      "       'Country', 'Latitude', 'Longitude'],\n",
      "      dtype='object')\n"
     ]
    }
   ],
   "source": [
    "print('Les colonnes de GlobalLandTemperaturesByCity sont',GlobalLandTemperaturesByCity_df.columns)"
   ]
  },
  {
   "cell_type": "code",
   "execution_count": 7,
   "metadata": {
    "colab": {
     "base_uri": "https://localhost:8080/",
     "height": 158
    },
    "colab_type": "code",
    "id": "Crc5xYBNUf1V",
    "outputId": "8466dc47-c64b-4fa3-dbc6-78b22603d9da"
   },
   "outputs": [
    {
     "data": {
      "text/plain": [
       "dt                                object\n",
       "AverageTemperature               float64\n",
       "AverageTemperatureUncertainty    float64\n",
       "City                              object\n",
       "Country                           object\n",
       "Latitude                          object\n",
       "Longitude                         object\n",
       "dtype: object"
      ]
     },
     "execution_count": 7,
     "metadata": {
      "tags": []
     },
     "output_type": "execute_result"
    }
   ],
   "source": [
    "GlobalLandTemperaturesByCity_df.dtypes"
   ]
  },
  {
   "cell_type": "code",
   "execution_count": 8,
   "metadata": {
    "colab": {
     "base_uri": "https://localhost:8080/",
     "height": 265
    },
    "colab_type": "code",
    "id": "0_wowgVcUjeo",
    "outputId": "390bb13e-f6d5-4f80-fc09-cde9d2d056d1"
   },
   "outputs": [
    {
     "name": "stdout",
     "output_type": "stream",
     "text": [
      "<class 'pandas.core.frame.DataFrame'>\n",
      "RangeIndex: 120099 entries, 0 to 120098\n",
      "Data columns (total 7 columns):\n",
      " #   Column                         Non-Null Count   Dtype  \n",
      "---  ------                         --------------   -----  \n",
      " 0   dt                             120099 non-null  object \n",
      " 1   AverageTemperature             114808 non-null  float64\n",
      " 2   AverageTemperatureUncertainty  114808 non-null  float64\n",
      " 3   City                           120098 non-null  object \n",
      " 4   Country                        120098 non-null  object \n",
      " 5   Latitude                       120098 non-null  object \n",
      " 6   Longitude                      120098 non-null  object \n",
      "dtypes: float64(2), object(5)\n",
      "memory usage: 6.4+ MB\n"
     ]
    }
   ],
   "source": [
    "GlobalLandTemperaturesByCity_df.info()"
   ]
  },
  {
   "cell_type": "code",
   "execution_count": 9,
   "metadata": {
    "colab": {
     "base_uri": "https://localhost:8080/",
     "height": 265
    },
    "colab_type": "code",
    "id": "NPzbp-BdUnU_",
    "outputId": "0d46fc19-39cc-499e-8a69-ec264c4bb974"
   },
   "outputs": [
    {
     "name": "stdout",
     "output_type": "stream",
     "text": [
      "<class 'pandas.core.frame.DataFrame'>\n",
      "RangeIndex: 120099 entries, 0 to 120098\n",
      "Data columns (total 7 columns):\n",
      " #   Column                         Non-Null Count   Dtype  \n",
      "---  ------                         --------------   -----  \n",
      " 0   dt                             120099 non-null  object \n",
      " 1   AverageTemperature             114808 non-null  float64\n",
      " 2   AverageTemperatureUncertainty  114808 non-null  float64\n",
      " 3   City                           120098 non-null  object \n",
      " 4   Country                        120098 non-null  object \n",
      " 5   Latitude                       120098 non-null  object \n",
      " 6   Longitude                      120098 non-null  object \n",
      "dtypes: float64(2), object(5)\n",
      "memory usage: 6.4+ MB\n"
     ]
    }
   ],
   "source": [
    "GlobalLandTemperaturesByCity_df.info()"
   ]
  },
  {
   "cell_type": "code",
   "execution_count": 10,
   "metadata": {
    "colab": {
     "base_uri": "https://localhost:8080/",
     "height": 34
    },
    "colab_type": "code",
    "id": "mwYXVT9tUwkm",
    "outputId": "0c74a8d6-c179-412b-e260-a120751de7ee"
   },
   "outputs": [
    {
     "name": "stdout",
     "output_type": "stream",
     "text": [
      "Le dataframe GlobalLandTemperaturesByCity a (120099, 7) lignes et colonnes\n"
     ]
    }
   ],
   "source": [
    "print('Le dataframe GlobalLandTemperaturesByCity a {} lignes et colonnes'.format(GlobalLandTemperaturesByCity_df.shape))"
   ]
  },
  {
   "cell_type": "code",
   "execution_count": 11,
   "metadata": {
    "colab": {
     "base_uri": "https://localhost:8080/",
     "height": 70
    },
    "colab_type": "code",
    "id": "2mdVQTgqU6D1",
    "outputId": "a86757de-8e42-425b-b1ec-b3c12de5f9a8"
   },
   "outputs": [
    {
     "name": "stdout",
     "output_type": "stream",
     "text": [
      "Les colonnes de GlobalLandTemperaturesByCity sont Index(['dt', 'AverageTemperature', 'AverageTemperatureUncertainty', 'City',\n",
      "       'Country', 'Latitude', 'Longitude'],\n",
      "      dtype='object')\n"
     ]
    }
   ],
   "source": [
    "print('Les colonnes de GlobalLandTemperaturesByCity sont',GlobalLandTemperaturesByCity_df.columns)"
   ]
  },
  {
   "cell_type": "code",
   "execution_count": 12,
   "metadata": {
    "colab": {
     "base_uri": "https://localhost:8080/",
     "height": 158
    },
    "colab_type": "code",
    "id": "-X0ce2HxU_FR",
    "outputId": "f77f7382-19f0-44a9-f13b-b69a0b213fce"
   },
   "outputs": [
    {
     "data": {
      "text/plain": [
       "dt                                object\n",
       "AverageTemperature               float64\n",
       "AverageTemperatureUncertainty    float64\n",
       "City                              object\n",
       "Country                           object\n",
       "Latitude                          object\n",
       "Longitude                         object\n",
       "dtype: object"
      ]
     },
     "execution_count": 12,
     "metadata": {
      "tags": []
     },
     "output_type": "execute_result"
    }
   ],
   "source": [
    "GlobalLandTemperaturesByCity_df.dtypes"
   ]
  },
  {
   "cell_type": "code",
   "execution_count": 13,
   "metadata": {
    "colab": {
     "base_uri": "https://localhost:8080/",
     "height": 265
    },
    "colab_type": "code",
    "id": "XkTZkrxdVD6q",
    "outputId": "d6514b5a-89ed-4085-f5a3-faff1e61c2a0"
   },
   "outputs": [
    {
     "name": "stdout",
     "output_type": "stream",
     "text": [
      "<class 'pandas.core.frame.DataFrame'>\n",
      "RangeIndex: 120099 entries, 0 to 120098\n",
      "Data columns (total 7 columns):\n",
      " #   Column                         Non-Null Count   Dtype  \n",
      "---  ------                         --------------   -----  \n",
      " 0   dt                             120099 non-null  object \n",
      " 1   AverageTemperature             114808 non-null  float64\n",
      " 2   AverageTemperatureUncertainty  114808 non-null  float64\n",
      " 3   City                           120098 non-null  object \n",
      " 4   Country                        120098 non-null  object \n",
      " 5   Latitude                       120098 non-null  object \n",
      " 6   Longitude                      120098 non-null  object \n",
      "dtypes: float64(2), object(5)\n",
      "memory usage: 6.4+ MB\n"
     ]
    }
   ],
   "source": [
    "GlobalLandTemperaturesByCity_df.info()"
   ]
  },
  {
   "cell_type": "code",
   "execution_count": 14,
   "metadata": {
    "colab": {
     "base_uri": "https://localhost:8080/",
     "height": 158
    },
    "colab_type": "code",
    "id": "1JHbxcG3VIud",
    "outputId": "4c93e113-0411-4490-bd06-c1e1a28211c0"
   },
   "outputs": [
    {
     "data": {
      "text/plain": [
       "dt                                  0\n",
       "AverageTemperature               5291\n",
       "AverageTemperatureUncertainty    5291\n",
       "City                                1\n",
       "Country                             1\n",
       "Latitude                            1\n",
       "Longitude                           1\n",
       "dtype: int64"
      ]
     },
     "execution_count": 14,
     "metadata": {
      "tags": []
     },
     "output_type": "execute_result"
    }
   ],
   "source": [
    "GlobalLandTemperaturesByCity_df.isnull().sum()"
   ]
  },
  {
   "cell_type": "code",
   "execution_count": 15,
   "metadata": {
    "colab": {
     "base_uri": "https://localhost:8080/",
     "height": 34
    },
    "colab_type": "code",
    "id": "FEHzaJjPVOkq",
    "outputId": "f6e4f404-98f2-4760-8e7c-124b12923b32"
   },
   "outputs": [
    {
     "name": "stdout",
     "output_type": "stream",
     "text": [
      "120099\n"
     ]
    }
   ],
   "source": [
    "total=len(GlobalLandTemperaturesByCity_df.AverageTemperature)\n",
    "print(total)"
   ]
  },
  {
   "cell_type": "code",
   "execution_count": 16,
   "metadata": {
    "colab": {
     "base_uri": "https://localhost:8080/",
     "height": 34
    },
    "colab_type": "code",
    "id": "X_9XzgegVV2d",
    "outputId": "9dd9f96e-6bb7-46c7-b0c4-61093b38faf8"
   },
   "outputs": [
    {
     "name": "stdout",
     "output_type": "stream",
     "text": [
      "4.4055321026819545\n"
     ]
    }
   ],
   "source": [
    "pourcentate=100*GlobalLandTemperaturesByCity_df.AverageTemperature.isnull().sum()/len(GlobalLandTemperaturesByCity_df.AverageTemperature)\n",
    "print(pourcentate)"
   ]
  },
  {
   "cell_type": "code",
   "execution_count": 17,
   "metadata": {
    "colab": {
     "base_uri": "https://localhost:8080/",
     "height": 34
    },
    "colab_type": "code",
    "id": "ZhvnpLm1VaON",
    "outputId": "927f02e1-bd4e-4645-abbd-388f70521c7c"
   },
   "outputs": [
    {
     "name": "stdout",
     "output_type": "stream",
     "text": [
      "120099\n"
     ]
    }
   ],
   "source": [
    "total=len(GlobalLandTemperaturesByCity_df.AverageTemperatureUncertainty)\n",
    "print(total)"
   ]
  },
  {
   "cell_type": "code",
   "execution_count": 19,
   "metadata": {
    "colab": {
     "base_uri": "https://localhost:8080/",
     "height": 34
    },
    "colab_type": "code",
    "id": "Fgl0T3mLVhZ_",
    "outputId": "4a6a4ae8-c0a6-4bc1-83dd-24d1dde20ef7"
   },
   "outputs": [
    {
     "name": "stdout",
     "output_type": "stream",
     "text": [
      "4.4055321026819545\n"
     ]
    }
   ],
   "source": [
    "pourcentate=100*GlobalLandTemperaturesByCity_df.AverageTemperatureUncertainty.isnull().sum()/len(GlobalLandTemperaturesByCity_df.AverageTemperatureUncertainty)\n",
    "print(pourcentate)"
   ]
  },
  {
   "cell_type": "code",
   "execution_count": 20,
   "metadata": {
    "colab": {
     "base_uri": "https://localhost:8080/",
     "height": 300
    },
    "colab_type": "code",
    "id": "aJ0MfsyAVngH",
    "outputId": "99af8710-e75f-4bf7-d01f-ca6b90822d43"
   },
   "outputs": [
    {
     "data": {
      "text/plain": [
       "<matplotlib.axes._subplots.AxesSubplot at 0x7fad0f6a34e0>"
      ]
     },
     "execution_count": 20,
     "metadata": {
      "tags": []
     },
     "output_type": "execute_result"
    },
    {
     "data": {
      "image/png": "[encoded data removed]",
      "text/plain": [
       "<Figure size 432x288 with 1 Axes>"
      ]
     },
     "metadata": {
      "needs_background": "light",
      "tags": []
     },
     "output_type": "display_data"
    }
   ],
   "source": [
    "sns.distplot(GlobalLandTemperaturesByCity_df.AverageTemperatureUncertainty,kde=False,bins=20)"
   ]
  },
  {
   "cell_type": "code",
   "execution_count": 21,
   "metadata": {
    "colab": {
     "base_uri": "https://localhost:8080/",
     "height": 296
    },
    "colab_type": "code",
    "id": "ry9cP9PpVuby",
    "outputId": "1100d3bf-7d03-47c7-db5d-fefd663d0d35"
   },
   "outputs": [
    {
     "data": {
      "text/plain": [
       "<matplotlib.axes._subplots.AxesSubplot at 0x7fad0f5ba2e8>"
      ]
     },
     "execution_count": 21,
     "metadata": {
      "tags": []
     },
     "output_type": "execute_result"
    },
    {
     "data": {
      "image/png": "[encoded data removed]",
      "text/plain": [
       "<Figure size 432x288 with 1 Axes>"
      ]
     },
     "metadata": {
      "needs_background": "light",
      "tags": []
     },
     "output_type": "display_data"
    }
   ],
   "source": [
    "sns.distplot(GlobalLandTemperaturesByCity_df.AverageTemperature,kde=False,bins=20)"
   ]
  },
  {
   "cell_type": "code",
   "execution_count": 22,
   "metadata": {
    "colab": {
     "base_uri": "https://localhost:8080/",
     "height": 70
    },
    "colab_type": "code",
    "id": "KaviUkZrV11y",
    "outputId": "2a9a5249-e4ba-47c4-f90d-15c22a5c0124"
   },
   "outputs": [
    {
     "name": "stdout",
     "output_type": "stream",
     "text": [
      "temperature moyenne= 17.655059002856763\n",
      "temperature médiane= 19.942\n",
      "temperature écart types 11.090414621533931\n"
     ]
    }
   ],
   "source": [
    "print('temperature moyenne=',GlobalLandTemperaturesByCity_df.AverageTemperature.mean())\n",
    "print('temperature médiane=',GlobalLandTemperaturesByCity_df.AverageTemperature.median())\n",
    "print('temperature écart types',GlobalLandTemperaturesByCity_df.AverageTemperature.std())"
   ]
  },
  {
   "cell_type": "code",
   "execution_count": 23,
   "metadata": {
    "colab": {
     "base_uri": "https://localhost:8080/",
     "height": 70
    },
    "colab_type": "code",
    "id": "R3_hQegIV6Fv",
    "outputId": "4eb0933b-f962-4ed5-ce8b-bce9c7fb3aad"
   },
   "outputs": [
    {
     "name": "stdout",
     "output_type": "stream",
     "text": [
      "temperature incertaine moyenne= 1.0453264842171306\n",
      "temperature incertaine médiane= 0.625\n",
      "temperature incertaine écart types 1.1194842894629504\n"
     ]
    }
   ],
   "source": [
    "print('temperature incertaine moyenne=',GlobalLandTemperaturesByCity_df.AverageTemperatureUncertainty.mean())\n",
    "print('temperature incertaine médiane=',GlobalLandTemperaturesByCity_df.AverageTemperatureUncertainty.median())\n",
    "print('temperature incertaine écart types',GlobalLandTemperaturesByCity_df.AverageTemperatureUncertainty.std())"
   ]
  },
  {
   "cell_type": "code",
   "execution_count": 27,
   "metadata": {
    "colab": {
     "base_uri": "https://localhost:8080/",
     "height": 123
    },
    "colab_type": "code",
    "id": "u9WeLbDkV9pP",
    "outputId": "e297b5df-7755-4cda-d19c-55f3fc43a067"
   },
   "outputs": [
    {
     "data": {
      "text/plain": [
       "array(['Denmark', 'Turkey', 'Kazakhstan', 'China', 'Spain', 'Germany',\n",
       "       'Nigeria', 'Iran', 'Russia', 'Canada', \"Côte D'Ivoire\",\n",
       "       'United Kingdom', 'Saudi Arabia', 'Japan', 'United States',\n",
       "       'India', 'Benin', 'United Arab Emirates', 'Mexico', 'Venezuela',\n",
       "       'Ghana', 'Ethiopia', 'Australia', 'Yemen', 'Indonesia', 'Morocco',\n",
       "       'Pakistan', 'France', nan], dtype=object)"
      ]
     },
     "execution_count": 27,
     "metadata": {
      "tags": []
     },
     "output_type": "execute_result"
    }
   ],
   "source": [
    "pd.unique(GlobalLandTemperaturesByCity_df.Country)"
   ]
  },
  {
   "cell_type": "code",
   "execution_count": 28,
   "metadata": {
    "colab": {
     "base_uri": "https://localhost:8080/",
     "height": 34
    },
    "colab_type": "code",
    "id": "qSawhDGnWQbu",
    "outputId": "c9d75bdf-e8ca-4a23-b712-54c0acbcb999"
   },
   "outputs": [
    {
     "name": "stdout",
     "output_type": "stream",
     "text": [
      "29\n"
     ]
    }
   ],
   "source": [
    "total_number=len(pd.unique(GlobalLandTemperaturesByCity_df.Country))\n",
    "print(total_number)"
   ]
  },
  {
   "cell_type": "code",
   "execution_count": 29,
   "metadata": {
    "colab": {
     "base_uri": "https://localhost:8080/",
     "height": 194
    },
    "colab_type": "code",
    "id": "fkNwmhK6WvUj",
    "outputId": "2ddb58b3-9252-4fc4-95d8-82b70fcec5a8"
   },
   "outputs": [
    {
     "data": {
      "text/plain": [
       "array(['Århus', 'Çorlu', 'Çorum', 'Öskemen', 'Ürümqi', 'A Coruña',\n",
       "       'Aachen', 'Aalborg', 'Aba', 'Abadan', 'Abakaliki', 'Abakan',\n",
       "       'Abbotsford', 'Abengourou', 'Abeokuta', 'Aberdeen', 'Abha',\n",
       "       'Abidjan', 'Abiko', 'Abilene', 'Abohar', 'Abomey Calavi',\n",
       "       'Abu Dhabi', 'Abuja', 'Acapulco', 'Acarigua', 'Accra', 'Achalpur',\n",
       "       'Acheng', 'Achinsk', 'Acuña', 'Adana', 'Addis Abeba', 'Adelaide',\n",
       "       'Aden', 'Adilabad', 'Adiwerna', 'Adoni', 'Afyonkarahisar',\n",
       "       'Agadir', 'Agartala', 'Agboville', 'Ageo', 'Agra',\n",
       "       'Aguascalientes', 'Ahmadabad', 'Ahmadnagar', 'Ahmadpur East',\n",
       "       'Ahvaz', 'Aix En Provence', nan], dtype=object)"
      ]
     },
     "execution_count": 29,
     "metadata": {
      "tags": []
     },
     "output_type": "execute_result"
    }
   ],
   "source": [
    "pd.unique(GlobalLandTemperaturesByCity_df.City)"
   ]
  },
  {
   "cell_type": "code",
   "execution_count": 30,
   "metadata": {
    "colab": {
     "base_uri": "https://localhost:8080/",
     "height": 34
    },
    "colab_type": "code",
    "id": "kXAh5PxhWyJk",
    "outputId": "2c148555-ed99-449b-9bc3-9ac10e05f11f"
   },
   "outputs": [
    {
     "name": "stdout",
     "output_type": "stream",
     "text": [
      "51\n"
     ]
    }
   ],
   "source": [
    "total_number=len(pd.unique(GlobalLandTemperaturesByCity_df.City))\n",
    "print(total_number)"
   ]
  },
  {
   "cell_type": "code",
   "execution_count": 34,
   "metadata": {
    "colab": {},
    "colab_type": "code",
    "id": "5K7fRoNmW3sv"
   },
   "outputs": [],
   "source": [
    "TemperaturesGlobal = GlobalLandTemperaturesByCity_df.corr()"
   ]
  },
  {
   "cell_type": "code",
   "execution_count": 35,
   "metadata": {
    "colab": {
     "base_uri": "https://localhost:8080/",
     "height": 287
    },
    "colab_type": "code",
    "id": "mc5pksdQXNbt",
    "outputId": "289a0789-d0ca-4917-8eee-e8cd0a5d79d3"
   },
   "outputs": [
    {
     "data": {
      "text/html": [
       "<div>\n",
       "<style scoped>\n",
       "    .dataframe tbody tr th:only-of-type {\n",
       "        vertical-align: middle;\n",
       "    }\n",
       "\n",
       "    .dataframe tbody tr th {\n",
       "        vertical-align: top;\n",
       "    }\n",
       "\n",
       "    .dataframe thead th {\n",
       "        text-align: right;\n",
       "    }\n",
       "</style>\n",
       "<table border=\"1\" class=\"dataframe\">\n",
       "  <thead>\n",
       "    <tr style=\"text-align: right;\">\n",
       "      <th></th>\n",
       "      <th>AverageTemperature</th>\n",
       "      <th>AverageTemperatureUncertainty</th>\n",
       "    </tr>\n",
       "  </thead>\n",
       "  <tbody>\n",
       "    <tr>\n",
       "      <th>count</th>\n",
       "      <td>114808.000000</td>\n",
       "      <td>114808.000000</td>\n",
       "    </tr>\n",
       "    <tr>\n",
       "      <th>mean</th>\n",
       "      <td>17.655059</td>\n",
       "      <td>1.045326</td>\n",
       "    </tr>\n",
       "    <tr>\n",
       "      <th>std</th>\n",
       "      <td>11.090415</td>\n",
       "      <td>1.119484</td>\n",
       "    </tr>\n",
       "    <tr>\n",
       "      <th>min</th>\n",
       "      <td>-31.138000</td>\n",
       "      <td>0.049000</td>\n",
       "    </tr>\n",
       "    <tr>\n",
       "      <th>25%</th>\n",
       "      <td>11.128000</td>\n",
       "      <td>0.354000</td>\n",
       "    </tr>\n",
       "    <tr>\n",
       "      <th>50%</th>\n",
       "      <td>19.942000</td>\n",
       "      <td>0.625000</td>\n",
       "    </tr>\n",
       "    <tr>\n",
       "      <th>75%</th>\n",
       "      <td>26.303000</td>\n",
       "      <td>1.395000</td>\n",
       "    </tr>\n",
       "    <tr>\n",
       "      <th>max</th>\n",
       "      <td>39.156000</td>\n",
       "      <td>15.030000</td>\n",
       "    </tr>\n",
       "  </tbody>\n",
       "</table>\n",
       "</div>"
      ],
      "text/plain": [
       "       AverageTemperature  AverageTemperatureUncertainty\n",
       "count       114808.000000                  114808.000000\n",
       "mean            17.655059                       1.045326\n",
       "std             11.090415                       1.119484\n",
       "min            -31.138000                       0.049000\n",
       "25%             11.128000                       0.354000\n",
       "50%             19.942000                       0.625000\n",
       "75%             26.303000                       1.395000\n",
       "max             39.156000                      15.030000"
      ]
     },
     "execution_count": 35,
     "metadata": {
      "tags": []
     },
     "output_type": "execute_result"
    }
   ],
   "source": [
    "GlobalLandTemperaturesByCity_df.describe()"
   ]
  },
  {
   "cell_type": "code",
   "execution_count": 37,
   "metadata": {
    "colab": {},
    "colab_type": "code",
    "id": "PsSssciBXTQN"
   },
   "outputs": [],
   "source": [
    "# 2.2.Importer le jeu de données à partir du fichier CSV.\n",
    "globalLandTemperaturesByCountry_df = pd.read_csv('GlobalLandTemperaturesByCountry.csv', sep=',')"
   ]
  },
  {
   "cell_type": "code",
   "execution_count": 38,
   "metadata": {
    "colab": {
     "base_uri": "https://localhost:8080/",
     "height": 347
    },
    "colab_type": "code",
    "id": "v-3rNDcfXX9i",
    "outputId": "6eaf10c4-ee2b-4ba0-bae1-ba487af926dc"
   },
   "outputs": [
    {
     "data": {
      "text/html": [
       "<div>\n",
       "<style scoped>\n",
       "    .dataframe tbody tr th:only-of-type {\n",
       "        vertical-align: middle;\n",
       "    }\n",
       "\n",
       "    .dataframe tbody tr th {\n",
       "        vertical-align: top;\n",
       "    }\n",
       "\n",
       "    .dataframe thead th {\n",
       "        text-align: right;\n",
       "    }\n",
       "</style>\n",
       "<table border=\"1\" class=\"dataframe\">\n",
       "  <thead>\n",
       "    <tr style=\"text-align: right;\">\n",
       "      <th></th>\n",
       "      <th>dt</th>\n",
       "      <th>AverageTemperature</th>\n",
       "      <th>AverageTemperatureUncertainty</th>\n",
       "      <th>Country</th>\n",
       "    </tr>\n",
       "  </thead>\n",
       "  <tbody>\n",
       "    <tr>\n",
       "      <th>0</th>\n",
       "      <td>1743-11-01</td>\n",
       "      <td>4.384</td>\n",
       "      <td>2.294</td>\n",
       "      <td>Åland</td>\n",
       "    </tr>\n",
       "    <tr>\n",
       "      <th>1</th>\n",
       "      <td>1743-12-01</td>\n",
       "      <td>NaN</td>\n",
       "      <td>NaN</td>\n",
       "      <td>Åland</td>\n",
       "    </tr>\n",
       "    <tr>\n",
       "      <th>2</th>\n",
       "      <td>1744-01-01</td>\n",
       "      <td>NaN</td>\n",
       "      <td>NaN</td>\n",
       "      <td>Åland</td>\n",
       "    </tr>\n",
       "    <tr>\n",
       "      <th>3</th>\n",
       "      <td>1744-02-01</td>\n",
       "      <td>NaN</td>\n",
       "      <td>NaN</td>\n",
       "      <td>Åland</td>\n",
       "    </tr>\n",
       "    <tr>\n",
       "      <th>4</th>\n",
       "      <td>1744-03-01</td>\n",
       "      <td>NaN</td>\n",
       "      <td>NaN</td>\n",
       "      <td>Åland</td>\n",
       "    </tr>\n",
       "    <tr>\n",
       "      <th>5</th>\n",
       "      <td>1744-04-01</td>\n",
       "      <td>1.530</td>\n",
       "      <td>4.680</td>\n",
       "      <td>Åland</td>\n",
       "    </tr>\n",
       "    <tr>\n",
       "      <th>6</th>\n",
       "      <td>1744-05-01</td>\n",
       "      <td>6.702</td>\n",
       "      <td>1.789</td>\n",
       "      <td>Åland</td>\n",
       "    </tr>\n",
       "    <tr>\n",
       "      <th>7</th>\n",
       "      <td>1744-06-01</td>\n",
       "      <td>11.609</td>\n",
       "      <td>1.577</td>\n",
       "      <td>Åland</td>\n",
       "    </tr>\n",
       "    <tr>\n",
       "      <th>8</th>\n",
       "      <td>1744-07-01</td>\n",
       "      <td>15.342</td>\n",
       "      <td>1.410</td>\n",
       "      <td>Åland</td>\n",
       "    </tr>\n",
       "    <tr>\n",
       "      <th>9</th>\n",
       "      <td>1744-08-01</td>\n",
       "      <td>NaN</td>\n",
       "      <td>NaN</td>\n",
       "      <td>Åland</td>\n",
       "    </tr>\n",
       "  </tbody>\n",
       "</table>\n",
       "</div>"
      ],
      "text/plain": [
       "           dt  AverageTemperature  AverageTemperatureUncertainty Country\n",
       "0  1743-11-01               4.384                          2.294   Åland\n",
       "1  1743-12-01                 NaN                            NaN   Åland\n",
       "2  1744-01-01                 NaN                            NaN   Åland\n",
       "3  1744-02-01                 NaN                            NaN   Åland\n",
       "4  1744-03-01                 NaN                            NaN   Åland\n",
       "5  1744-04-01               1.530                          4.680   Åland\n",
       "6  1744-05-01               6.702                          1.789   Åland\n",
       "7  1744-06-01              11.609                          1.577   Åland\n",
       "8  1744-07-01              15.342                          1.410   Åland\n",
       "9  1744-08-01                 NaN                            NaN   Åland"
      ]
     },
     "execution_count": 38,
     "metadata": {
      "tags": []
     },
     "output_type": "execute_result"
    }
   ],
   "source": [
    "globalLandTemperaturesByCountry_df.head(10)"
   ]
  },
  {
   "cell_type": "code",
   "execution_count": 39,
   "metadata": {
    "colab": {
     "base_uri": "https://localhost:8080/",
     "height": 212
    },
    "colab_type": "code",
    "id": "K92QjgGmXdLH",
    "outputId": "04de0d88-3255-40af-83e9-f0a1ea9fe538"
   },
   "outputs": [
    {
     "name": "stdout",
     "output_type": "stream",
     "text": [
      "<class 'pandas.core.frame.DataFrame'>\n",
      "RangeIndex: 577462 entries, 0 to 577461\n",
      "Data columns (total 4 columns):\n",
      " #   Column                         Non-Null Count   Dtype  \n",
      "---  ------                         --------------   -----  \n",
      " 0   dt                             577462 non-null  object \n",
      " 1   AverageTemperature             544811 non-null  float64\n",
      " 2   AverageTemperatureUncertainty  545550 non-null  float64\n",
      " 3   Country                        577462 non-null  object \n",
      "dtypes: float64(2), object(2)\n",
      "memory usage: 17.6+ MB\n"
     ]
    }
   ],
   "source": [
    "globalLandTemperaturesByCountry_df.info()"
   ]
  },
  {
   "cell_type": "code",
   "execution_count": 40,
   "metadata": {
    "colab": {
     "base_uri": "https://localhost:8080/",
     "height": 34
    },
    "colab_type": "code",
    "id": "meG3BzWNXiDX",
    "outputId": "c00ce0cb-2da7-42ca-e3e3-eac58d4a9c11"
   },
   "outputs": [
    {
     "name": "stdout",
     "output_type": "stream",
     "text": [
      "Le dataframe globalLandTemperaturesByCountry_df a (577462, 4) lignes et colonnes\n"
     ]
    }
   ],
   "source": [
    "print('Le dataframe globalLandTemperaturesByCountry_df a {} lignes et colonnes'.format(globalLandTemperaturesByCountry_df.shape))"
   ]
  },
  {
   "cell_type": "code",
   "execution_count": null,
   "metadata": {
    "colab": {},
    "colab_type": "code",
    "id": "OFnVLXk5niQw"
   },
   "outputs": [],
   "source": []
  },
  {
   "cell_type": "code",
   "execution_count": 41,
   "metadata": {
    "colab": {
     "base_uri": "https://localhost:8080/",
     "height": 105
    },
    "colab_type": "code",
    "id": "DlPlRk79XmVn",
    "outputId": "20736687-f6a5-4567-b18e-c9ed87b6c809"
   },
   "outputs": [
    {
     "data": {
      "text/plain": [
       "dt                                object\n",
       "AverageTemperature               float64\n",
       "AverageTemperatureUncertainty    float64\n",
       "Country                           object\n",
       "dtype: object"
      ]
     },
     "execution_count": 41,
     "metadata": {
      "tags": []
     },
     "output_type": "execute_result"
    }
   ],
   "source": [
    "globalLandTemperaturesByCountry_df.dtypes"
   ]
  },
  {
   "cell_type": "code",
   "execution_count": 42,
   "metadata": {
    "colab": {
     "base_uri": "https://localhost:8080/",
     "height": 34
    },
    "colab_type": "code",
    "id": "w-LhfmtaXrLF",
    "outputId": "c4935040-ad5c-45a2-97ed-1757d43ce0f4"
   },
   "outputs": [
    {
     "name": "stdout",
     "output_type": "stream",
     "text": [
      "577462\n"
     ]
    }
   ],
   "source": [
    "total=len(globalLandTemperaturesByCountry_df.Country)\n",
    "print(total)"
   ]
  },
  {
   "cell_type": "code",
   "execution_count": 43,
   "metadata": {
    "colab": {
     "base_uri": "https://localhost:8080/",
     "height": 34
    },
    "colab_type": "code",
    "id": "M6cxW5gfXx1l",
    "outputId": "16c208e9-ec5f-4fd9-a9aa-14400a5000b3"
   },
   "outputs": [
    {
     "name": "stdout",
     "output_type": "stream",
     "text": [
      "96.27412574333894\n"
     ]
    }
   ],
   "source": [
    "pourcentate=100*globalLandTemperaturesByCountry_df.AverageTemperatureUncertainty.sum()/len(globalLandTemperaturesByCountry_df.AverageTemperatureUncertainty)\n",
    "print(pourcentate)"
   ]
  },
  {
   "cell_type": "code",
   "execution_count": 44,
   "metadata": {
    "colab": {
     "base_uri": "https://localhost:8080/",
     "height": 1000
    },
    "colab_type": "code",
    "id": "c_gs06kgXz53",
    "outputId": "afa34f86-53bc-4030-a0ce-1669b7004067"
   },
   "outputs": [
    {
     "data": {
      "text/plain": [
       "array(['Åland', 'Afghanistan', 'Africa', 'Albania', 'Algeria',\n",
       "       'American Samoa', 'Andorra', 'Angola', 'Anguilla', 'Antarctica',\n",
       "       'Antigua And Barbuda', 'Argentina', 'Armenia', 'Aruba', 'Asia',\n",
       "       'Australia', 'Austria', 'Azerbaijan', 'Bahamas', 'Bahrain',\n",
       "       'Baker Island', 'Bangladesh', 'Barbados', 'Belarus', 'Belgium',\n",
       "       'Belize', 'Benin', 'Bhutan', 'Bolivia',\n",
       "       'Bonaire, Saint Eustatius And Saba', 'Bosnia And Herzegovina',\n",
       "       'Botswana', 'Brazil', 'British Virgin Islands', 'Bulgaria',\n",
       "       'Burkina Faso', 'Burma', 'Burundi', \"Côte D'Ivoire\", 'Cambodia',\n",
       "       'Cameroon', 'Canada', 'Cape Verde', 'Cayman Islands',\n",
       "       'Central African Republic', 'Chad', 'Chile', 'China',\n",
       "       'Christmas Island', 'Colombia', 'Comoros',\n",
       "       'Congo (Democratic Republic Of The)', 'Congo', 'Costa Rica',\n",
       "       'Croatia', 'Cuba', 'Curaçao', 'Cyprus', 'Czech Republic',\n",
       "       'Denmark (Europe)', 'Denmark', 'Djibouti', 'Dominica',\n",
       "       'Dominican Republic', 'Ecuador', 'Egypt', 'El Salvador',\n",
       "       'Equatorial Guinea', 'Eritrea', 'Estonia', 'Ethiopia', 'Europe',\n",
       "       'Falkland Islands (Islas Malvinas)', 'Faroe Islands',\n",
       "       'Federated States Of Micronesia', 'Fiji', 'Finland',\n",
       "       'France (Europe)', 'France', 'French Guiana', 'French Polynesia',\n",
       "       'French Southern And Antarctic Lands', 'Gabon', 'Gambia',\n",
       "       'Gaza Strip', 'Georgia', 'Germany', 'Ghana', 'Greece', 'Greenland',\n",
       "       'Grenada', 'Guadeloupe', 'Guam', 'Guatemala', 'Guernsey',\n",
       "       'Guinea Bissau', 'Guinea', 'Guyana', 'Haiti',\n",
       "       'Heard Island And Mcdonald Islands', 'Honduras', 'Hong Kong',\n",
       "       'Hungary', 'Iceland', 'India', 'Indonesia', 'Iran', 'Iraq',\n",
       "       'Ireland', 'Isle Of Man', 'Israel', 'Italy', 'Jamaica', 'Japan',\n",
       "       'Jersey', 'Jordan', 'Kazakhstan', 'Kenya', 'Kingman Reef',\n",
       "       'Kiribati', 'Kuwait', 'Kyrgyzstan', 'Laos', 'Latvia', 'Lebanon',\n",
       "       'Lesotho', 'Liberia', 'Libya', 'Liechtenstein', 'Lithuania',\n",
       "       'Luxembourg', 'Macau', 'Macedonia', 'Madagascar', 'Malawi',\n",
       "       'Malaysia', 'Mali', 'Malta', 'Martinique', 'Mauritania',\n",
       "       'Mauritius', 'Mayotte', 'Mexico', 'Moldova', 'Monaco', 'Mongolia',\n",
       "       'Montenegro', 'Montserrat', 'Morocco', 'Mozambique', 'Namibia',\n",
       "       'Nepal', 'Netherlands (Europe)', 'Netherlands', 'New Caledonia',\n",
       "       'New Zealand', 'Nicaragua', 'Niger', 'Nigeria', 'Niue',\n",
       "       'North America', 'North Korea', 'Northern Mariana Islands',\n",
       "       'Norway', 'Oceania', 'Oman', 'Pakistan', 'Palau', 'Palestina',\n",
       "       'Palmyra Atoll', 'Panama', 'Papua New Guinea', 'Paraguay', 'Peru',\n",
       "       'Philippines', 'Poland', 'Portugal', 'Puerto Rico', 'Qatar',\n",
       "       'Reunion', 'Romania', 'Russia', 'Rwanda', 'Saint Barthélemy',\n",
       "       'Saint Kitts And Nevis', 'Saint Lucia', 'Saint Martin',\n",
       "       'Saint Pierre And Miquelon', 'Saint Vincent And The Grenadines',\n",
       "       'Samoa', 'San Marino', 'Sao Tome And Principe', 'Saudi Arabia',\n",
       "       'Senegal', 'Serbia', 'Seychelles', 'Sierra Leone', 'Singapore',\n",
       "       'Sint Maarten', 'Slovakia', 'Slovenia', 'Solomon Islands',\n",
       "       'Somalia', 'South Africa', 'South America',\n",
       "       'South Georgia And The South Sandwich Isla', 'South Korea',\n",
       "       'Spain', 'Sri Lanka', 'Sudan', 'Suriname',\n",
       "       'Svalbard And Jan Mayen', 'Swaziland', 'Sweden', 'Switzerland',\n",
       "       'Syria', 'Taiwan', 'Tajikistan', 'Tanzania', 'Thailand',\n",
       "       'Timor Leste', 'Togo', 'Tonga', 'Trinidad And Tobago', 'Tunisia',\n",
       "       'Turkey', 'Turkmenistan', 'Turks And Caicas Islands', 'Uganda',\n",
       "       'Ukraine', 'United Arab Emirates', 'United Kingdom (Europe)',\n",
       "       'United Kingdom', 'United States', 'Uruguay', 'Uzbekistan',\n",
       "       'Venezuela', 'Vietnam', 'Virgin Islands', 'Western Sahara',\n",
       "       'Yemen', 'Zambia', 'Zimbabwe'], dtype=object)"
      ]
     },
     "execution_count": 44,
     "metadata": {
      "tags": []
     },
     "output_type": "execute_result"
    }
   ],
   "source": [
    "pd.unique(globalLandTemperaturesByCountry_df.Country)"
   ]
  },
  {
   "cell_type": "code",
   "execution_count": 45,
   "metadata": {
    "colab": {
     "base_uri": "https://localhost:8080/",
     "height": 70
    },
    "colab_type": "code",
    "id": "wEC3rgQLX6Zb",
    "outputId": "842e8f20-3f8d-4823-f089-f1ffada74161"
   },
   "outputs": [
    {
     "name": "stdout",
     "output_type": "stream",
     "text": [
      "temperature moyenne= 17.19335423293611\n",
      "temperature médiane= 20.901\n",
      "temperature écart types 10.953966445121493\n"
     ]
    }
   ],
   "source": [
    "print('temperature moyenne=',globalLandTemperaturesByCountry_df.AverageTemperature.mean())\n",
    "print('temperature médiane=',globalLandTemperaturesByCountry_df.AverageTemperature.median())\n",
    "print('temperature écart types',globalLandTemperaturesByCountry_df.AverageTemperature.std())"
   ]
  },
  {
   "cell_type": "code",
   "execution_count": 46,
   "metadata": {
    "colab": {
     "base_uri": "https://localhost:8080/",
     "height": 34
    },
    "colab_type": "code",
    "id": "V4GsaagMYBXT",
    "outputId": "8e99b9ce-be3d-477f-e288-667bc4d68fcb"
   },
   "outputs": [
    {
     "name": "stdout",
     "output_type": "stream",
     "text": [
      "243\n"
     ]
    }
   ],
   "source": [
    "total_number=len(pd.unique(globalLandTemperaturesByCountry_df.Country))\n",
    "print(total_number)"
   ]
  },
  {
   "cell_type": "code",
   "execution_count": 47,
   "metadata": {
    "colab": {
     "base_uri": "https://localhost:8080/",
     "height": 296
    },
    "colab_type": "code",
    "id": "t_TJ4SYhYDN2",
    "outputId": "185e4b1e-0cbb-4e0d-e19f-3f0b279bd68d"
   },
   "outputs": [
    {
     "data": {
      "text/plain": [
       "<matplotlib.axes._subplots.AxesSubplot at 0x7fad0f0846d8>"
      ]
     },
     "execution_count": 47,
     "metadata": {
      "tags": []
     },
     "output_type": "execute_result"
    },
    {
     "data": {
      "image/png": "[encoded data removed]",
      "text/plain": [
       "<Figure size 432x288 with 1 Axes>"
      ]
     },
     "metadata": {
      "needs_background": "light",
      "tags": []
     },
     "output_type": "display_data"
    }
   ],
   "source": [
    "sns.distplot(globalLandTemperaturesByCountry_df.AverageTemperatureUncertainty,kde=False,bins=20)"
   ]
  },
  {
   "cell_type": "code",
   "execution_count": 48,
   "metadata": {
    "colab": {
     "base_uri": "https://localhost:8080/",
     "height": 296
    },
    "colab_type": "code",
    "id": "-nNSfO0wYIRk",
    "outputId": "65305ded-d487-4d96-fab7-831f90d65102"
   },
   "outputs": [
    {
     "data": {
      "text/plain": [
       "<matplotlib.axes._subplots.AxesSubplot at 0x7fad0f0844e0>"
      ]
     },
     "execution_count": 48,
     "metadata": {
      "tags": []
     },
     "output_type": "execute_result"
    },
    {
     "data": {
      "image/png": "[encoded data removed]",
      "text/plain": [
       "<Figure size 432x288 with 1 Axes>"
      ]
     },
     "metadata": {
      "needs_background": "light",
      "tags": []
     },
     "output_type": "display_data"
    }
   ],
   "source": [
    "sns.distplot(globalLandTemperaturesByCountry_df.AverageTemperature,kde=False,bins=20)"
   ]
  },
  {
   "cell_type": "code",
   "execution_count": 50,
   "metadata": {
    "colab": {},
    "colab_type": "code",
    "id": "JLt0AwtjYMb9"
   },
   "outputs": [],
   "source": [
    "sns.catplot(\"dt\", kind=\"count\", hue='AverageTemperature', data=globalLandTemperaturesByCountry_df)\n",
    "plt.show()"
   ]
  },
  {
   "cell_type": "code",
   "execution_count": null,
   "metadata": {
    "colab": {},
    "colab_type": "code",
    "id": "yeT8xqpCYUO3"
   },
   "outputs": [],
   "source": [
    "## études du dataset GlobalLandTemperaturesByMajorCity"
   ]
  },
  {
   "cell_type": "code",
   "execution_count": 52,
   "metadata": {
    "colab": {},
    "colab_type": "code",
    "id": "ogVAIphaYedM"
   },
   "outputs": [],
   "source": [
    "GlobalLandTemperaturesByCity_df = pd.read_csv('GlobalLandTemperaturesByMajorCity.csv', sep=',')"
   ]
  },
  {
   "cell_type": "code",
   "execution_count": 53,
   "metadata": {
    "colab": {
     "base_uri": "https://localhost:8080/",
     "height": 347
    },
    "colab_type": "code",
    "id": "MFcciF9ydEFP",
    "outputId": "b0d61a47-4d56-44d4-f753-8c86bf364191"
   },
   "outputs": [
    {
     "data": {
      "text/html": [
       "<div>\n",
       "<style scoped>\n",
       "    .dataframe tbody tr th:only-of-type {\n",
       "        vertical-align: middle;\n",
       "    }\n",
       "\n",
       "    .dataframe tbody tr th {\n",
       "        vertical-align: top;\n",
       "    }\n",
       "\n",
       "    .dataframe thead th {\n",
       "        text-align: right;\n",
       "    }\n",
       "</style>\n",
       "<table border=\"1\" class=\"dataframe\">\n",
       "  <thead>\n",
       "    <tr style=\"text-align: right;\">\n",
       "      <th></th>\n",
       "      <th>dt</th>\n",
       "      <th>AverageTemperature</th>\n",
       "      <th>AverageTemperatureUncertainty</th>\n",
       "      <th>City</th>\n",
       "      <th>Country</th>\n",
       "      <th>Latitude</th>\n",
       "      <th>Longitude</th>\n",
       "    </tr>\n",
       "  </thead>\n",
       "  <tbody>\n",
       "    <tr>\n",
       "      <th>0</th>\n",
       "      <td>1849-01-01</td>\n",
       "      <td>26.704</td>\n",
       "      <td>1.435</td>\n",
       "      <td>Abidjan</td>\n",
       "      <td>Côte D'Ivoire</td>\n",
       "      <td>5.63N</td>\n",
       "      <td>3.23W</td>\n",
       "    </tr>\n",
       "    <tr>\n",
       "      <th>1</th>\n",
       "      <td>1849-02-01</td>\n",
       "      <td>27.434</td>\n",
       "      <td>1.362</td>\n",
       "      <td>Abidjan</td>\n",
       "      <td>Côte D'Ivoire</td>\n",
       "      <td>5.63N</td>\n",
       "      <td>3.23W</td>\n",
       "    </tr>\n",
       "    <tr>\n",
       "      <th>2</th>\n",
       "      <td>1849-03-01</td>\n",
       "      <td>28.101</td>\n",
       "      <td>1.612</td>\n",
       "      <td>Abidjan</td>\n",
       "      <td>Côte D'Ivoire</td>\n",
       "      <td>5.63N</td>\n",
       "      <td>3.23W</td>\n",
       "    </tr>\n",
       "    <tr>\n",
       "      <th>3</th>\n",
       "      <td>1849-04-01</td>\n",
       "      <td>26.140</td>\n",
       "      <td>1.387</td>\n",
       "      <td>Abidjan</td>\n",
       "      <td>Côte D'Ivoire</td>\n",
       "      <td>5.63N</td>\n",
       "      <td>3.23W</td>\n",
       "    </tr>\n",
       "    <tr>\n",
       "      <th>4</th>\n",
       "      <td>1849-05-01</td>\n",
       "      <td>25.427</td>\n",
       "      <td>1.200</td>\n",
       "      <td>Abidjan</td>\n",
       "      <td>Côte D'Ivoire</td>\n",
       "      <td>5.63N</td>\n",
       "      <td>3.23W</td>\n",
       "    </tr>\n",
       "    <tr>\n",
       "      <th>5</th>\n",
       "      <td>1849-06-01</td>\n",
       "      <td>24.844</td>\n",
       "      <td>1.402</td>\n",
       "      <td>Abidjan</td>\n",
       "      <td>Côte D'Ivoire</td>\n",
       "      <td>5.63N</td>\n",
       "      <td>3.23W</td>\n",
       "    </tr>\n",
       "    <tr>\n",
       "      <th>6</th>\n",
       "      <td>1849-07-01</td>\n",
       "      <td>24.058</td>\n",
       "      <td>1.254</td>\n",
       "      <td>Abidjan</td>\n",
       "      <td>Côte D'Ivoire</td>\n",
       "      <td>5.63N</td>\n",
       "      <td>3.23W</td>\n",
       "    </tr>\n",
       "    <tr>\n",
       "      <th>7</th>\n",
       "      <td>1849-08-01</td>\n",
       "      <td>23.576</td>\n",
       "      <td>1.265</td>\n",
       "      <td>Abidjan</td>\n",
       "      <td>Côte D'Ivoire</td>\n",
       "      <td>5.63N</td>\n",
       "      <td>3.23W</td>\n",
       "    </tr>\n",
       "    <tr>\n",
       "      <th>8</th>\n",
       "      <td>1849-09-01</td>\n",
       "      <td>23.662</td>\n",
       "      <td>1.226</td>\n",
       "      <td>Abidjan</td>\n",
       "      <td>Côte D'Ivoire</td>\n",
       "      <td>5.63N</td>\n",
       "      <td>3.23W</td>\n",
       "    </tr>\n",
       "    <tr>\n",
       "      <th>9</th>\n",
       "      <td>1849-10-01</td>\n",
       "      <td>25.263</td>\n",
       "      <td>1.175</td>\n",
       "      <td>Abidjan</td>\n",
       "      <td>Côte D'Ivoire</td>\n",
       "      <td>5.63N</td>\n",
       "      <td>3.23W</td>\n",
       "    </tr>\n",
       "  </tbody>\n",
       "</table>\n",
       "</div>"
      ],
      "text/plain": [
       "           dt  AverageTemperature  ...  Latitude Longitude\n",
       "0  1849-01-01              26.704  ...     5.63N     3.23W\n",
       "1  1849-02-01              27.434  ...     5.63N     3.23W\n",
       "2  1849-03-01              28.101  ...     5.63N     3.23W\n",
       "3  1849-04-01              26.140  ...     5.63N     3.23W\n",
       "4  1849-05-01              25.427  ...     5.63N     3.23W\n",
       "5  1849-06-01              24.844  ...     5.63N     3.23W\n",
       "6  1849-07-01              24.058  ...     5.63N     3.23W\n",
       "7  1849-08-01              23.576  ...     5.63N     3.23W\n",
       "8  1849-09-01              23.662  ...     5.63N     3.23W\n",
       "9  1849-10-01              25.263  ...     5.63N     3.23W\n",
       "\n",
       "[10 rows x 7 columns]"
      ]
     },
     "execution_count": 53,
     "metadata": {
      "tags": []
     },
     "output_type": "execute_result"
    }
   ],
   "source": [
    "GlobalLandTemperaturesByCity_df.head(10)"
   ]
  },
  {
   "cell_type": "code",
   "execution_count": 54,
   "metadata": {
    "colab": {
     "base_uri": "https://localhost:8080/",
     "height": 265
    },
    "colab_type": "code",
    "id": "Kd-pB1eYdSpZ",
    "outputId": "c0e295bd-69b8-4442-e397-664ee0d267b6"
   },
   "outputs": [
    {
     "name": "stdout",
     "output_type": "stream",
     "text": [
      "<class 'pandas.core.frame.DataFrame'>\n",
      "RangeIndex: 239177 entries, 0 to 239176\n",
      "Data columns (total 7 columns):\n",
      " #   Column                         Non-Null Count   Dtype  \n",
      "---  ------                         --------------   -----  \n",
      " 0   dt                             239177 non-null  object \n",
      " 1   AverageTemperature             228175 non-null  float64\n",
      " 2   AverageTemperatureUncertainty  228175 non-null  float64\n",
      " 3   City                           239177 non-null  object \n",
      " 4   Country                        239177 non-null  object \n",
      " 5   Latitude                       239177 non-null  object \n",
      " 6   Longitude                      239177 non-null  object \n",
      "dtypes: float64(2), object(5)\n",
      "memory usage: 12.8+ MB\n"
     ]
    }
   ],
   "source": [
    "GlobalLandTemperaturesByCity_df.info()"
   ]
  },
  {
   "cell_type": "code",
   "execution_count": 55,
   "metadata": {
    "colab": {
     "base_uri": "https://localhost:8080/",
     "height": 34
    },
    "colab_type": "code",
    "id": "cYuO5N6YgDn0",
    "outputId": "f137b98e-6018-4ee5-89cb-431b5b8a123e"
   },
   "outputs": [
    {
     "name": "stdout",
     "output_type": "stream",
     "text": [
      "Le dataframe GlobalLandTemperaturesByCity_df a (239177, 7) lignes et colonnes\n"
     ]
    }
   ],
   "source": [
    "print('Le dataframe GlobalLandTemperaturesByCity_df a {} lignes et colonnes'.format(GlobalLandTemperaturesByCity_df.shape))"
   ]
  },
  {
   "cell_type": "code",
   "execution_count": 56,
   "metadata": {
    "colab": {
     "base_uri": "https://localhost:8080/",
     "height": 158
    },
    "colab_type": "code",
    "id": "_UuvIhRlgW97",
    "outputId": "28066db9-953a-4754-f733-2dd3773a3fd4"
   },
   "outputs": [
    {
     "data": {
      "text/plain": [
       "dt                                object\n",
       "AverageTemperature               float64\n",
       "AverageTemperatureUncertainty    float64\n",
       "City                              object\n",
       "Country                           object\n",
       "Latitude                          object\n",
       "Longitude                         object\n",
       "dtype: object"
      ]
     },
     "execution_count": 56,
     "metadata": {
      "tags": []
     },
     "output_type": "execute_result"
    }
   ],
   "source": [
    "GlobalLandTemperaturesByCity_df.dtypes"
   ]
  },
  {
   "cell_type": "code",
   "execution_count": 57,
   "metadata": {
    "colab": {
     "base_uri": "https://localhost:8080/",
     "height": 34
    },
    "colab_type": "code",
    "id": "T_ckFWg9gxMw",
    "outputId": "f0079f15-efaf-4a7c-ae4f-9edfffdac267"
   },
   "outputs": [
    {
     "name": "stdout",
     "output_type": "stream",
     "text": [
      "239177\n"
     ]
    }
   ],
   "source": [
    "total=len(GlobalLandTemperaturesByCity_df.Country)\n",
    "print(total)"
   ]
  },
  {
   "cell_type": "code",
   "execution_count": 58,
   "metadata": {
    "colab": {
     "base_uri": "https://localhost:8080/",
     "height": 34
    },
    "colab_type": "code",
    "id": "yLefYldphB1i",
    "outputId": "70e4c497-0647-4c5e-e9f9-e0943f2853f3"
   },
   "outputs": [
    {
     "name": "stdout",
     "output_type": "stream",
     "text": [
      "92.47542154973097\n"
     ]
    }
   ],
   "source": [
    "pourcentate=100*GlobalLandTemperaturesByCity_df.AverageTemperatureUncertainty.sum()/len(GlobalLandTemperaturesByCity_df.AverageTemperatureUncertainty)\n",
    "print(pourcentate)"
   ]
  },
  {
   "cell_type": "code",
   "execution_count": 62,
   "metadata": {
    "colab": {
     "base_uri": "https://localhost:8080/",
     "height": 194
    },
    "colab_type": "code",
    "id": "lTtKGrS2hXt4",
    "outputId": "0224e52f-1ede-4308-d47b-d01975210e2f"
   },
   "outputs": [
    {
     "data": {
      "text/plain": [
       "array([\"Côte D'Ivoire\", 'Ethiopia', 'India', 'Syria', 'Egypt', 'Turkey',\n",
       "       'Iraq', 'Thailand', 'Brazil', 'Germany', 'Colombia',\n",
       "       'South Africa', 'Morocco', 'China', 'United States', 'Senegal',\n",
       "       'Tanzania', 'Bangladesh', 'Pakistan', 'Zimbabwe', 'Vietnam',\n",
       "       'Nigeria', 'Indonesia', 'Saudi Arabia', 'Afghanistan', 'Ukraine',\n",
       "       'Congo (Democratic Republic Of The)', 'Peru', 'United Kingdom',\n",
       "       'Angola', 'Spain', 'Philippines', 'Iran', 'Australia', 'Mexico',\n",
       "       'Somalia', 'Canada', 'Russia', 'Japan', 'Kenya', 'France', 'Burma',\n",
       "       'Italy', 'Chile', 'Dominican Republic', 'South Korea', 'Singapore',\n",
       "       'Taiwan', 'Sudan'], dtype=object)"
      ]
     },
     "execution_count": 62,
     "metadata": {
      "tags": []
     },
     "output_type": "execute_result"
    }
   ],
   "source": [
    "pd.unique(GlobalLandTemperaturesByCity_df.Country)"
   ]
  },
  {
   "cell_type": "code",
   "execution_count": 63,
   "metadata": {
    "colab": {
     "base_uri": "https://localhost:8080/",
     "height": 70
    },
    "colab_type": "code",
    "id": "KTJa4VfYiHaf",
    "outputId": "efac2074-f16d-4704-f0e4-a3423b297f77"
   },
   "outputs": [
    {
     "name": "stdout",
     "output_type": "stream",
     "text": [
      "temperature moyenne= 18.1259688528542\n",
      "temperature médiane= 20.428\n",
      "temperature écart types 10.024799710484947\n"
     ]
    }
   ],
   "source": [
    "print('temperature moyenne=',GlobalLandTemperaturesByCity_df.AverageTemperature.mean())\n",
    "print('temperature médiane=',GlobalLandTemperaturesByCity_df.AverageTemperature.median())\n",
    "print('temperature écart types',GlobalLandTemperaturesByCity_df.AverageTemperature.std())"
   ]
  },
  {
   "cell_type": "code",
   "execution_count": 64,
   "metadata": {
    "colab": {
     "base_uri": "https://localhost:8080/",
     "height": 34
    },
    "colab_type": "code",
    "id": "ffimvK6liZ42",
    "outputId": "cb8c10bb-8817-4439-c4d4-637651a2226f"
   },
   "outputs": [
    {
     "name": "stdout",
     "output_type": "stream",
     "text": [
      "49\n"
     ]
    }
   ],
   "source": [
    "total_number=len(pd.unique(GlobalLandTemperaturesByCity_df.Country))\n",
    "print(total_number)"
   ]
  },
  {
   "cell_type": "code",
   "execution_count": 65,
   "metadata": {
    "colab": {
     "base_uri": "https://localhost:8080/",
     "height": 296
    },
    "colab_type": "code",
    "id": "j7OLMPYhilXd",
    "outputId": "fc8f978c-3344-4ec1-b10a-70d578e46804"
   },
   "outputs": [
    {
     "data": {
      "text/plain": [
       "<matplotlib.axes._subplots.AxesSubplot at 0x7fad04912b00>"
      ]
     },
     "execution_count": 65,
     "metadata": {
      "tags": []
     },
     "output_type": "execute_result"
    },
    {
     "data": {
      "image/png": "[encoded data removed]",
      "text/plain": [
       "<Figure size 432x288 with 1 Axes>"
      ]
     },
     "metadata": {
      "needs_background": "light",
      "tags": []
     },
     "output_type": "display_data"
    }
   ],
   "source": [
    "sns.distplot(GlobalLandTemperaturesByCity_df.AverageTemperatureUncertainty,kde=False,bins=20)"
   ]
  },
  {
   "cell_type": "code",
   "execution_count": 66,
   "metadata": {
    "colab": {
     "base_uri": "https://localhost:8080/",
     "height": 296
    },
    "colab_type": "code",
    "id": "G_vN-QY0i1Yg",
    "outputId": "9407f967-b240-4224-846a-15c8c3d00090"
   },
   "outputs": [
    {
     "data": {
      "text/plain": [
       "<matplotlib.axes._subplots.AxesSubplot at 0x7fad073b5e10>"
      ]
     },
     "execution_count": 66,
     "metadata": {
      "tags": []
     },
     "output_type": "execute_result"
    },
    {
     "data": {
      "image/png": "[encoded data removed]",
      "text/plain": [
       "<Figure size 432x288 with 1 Axes>"
      ]
     },
     "metadata": {
      "needs_background": "light",
      "tags": []
     },
     "output_type": "display_data"
    }
   ],
   "source": [
    "sns.distplot(GlobalLandTemperaturesByCity_df.AverageTemperature,kde=False,bins=20)"
   ]
  },
  {
   "cell_type": "code",
   "execution_count": null,
   "metadata": {
    "colab": {},
    "colab_type": "code",
    "id": "5nk7c25ti9zR"
   },
   "outputs": [],
   "source": [
    "## Etude  du dataset gGlobalLandTemperaturesByState"
   ]
  },
  {
   "cell_type": "code",
   "execution_count": 71,
   "metadata": {
    "colab": {},
    "colab_type": "code",
    "id": "yMYSkYvcnuvU"
   },
   "outputs": [],
   "source": [
    "GlobalLandTemperaturesByState_df= pd.read_csv('GlobalLandTemperaturesByState.csv', sep=',')"
   ]
  },
  {
   "cell_type": "code",
   "execution_count": 72,
   "metadata": {
    "colab": {
     "base_uri": "https://localhost:8080/",
     "height": 347
    },
    "colab_type": "code",
    "id": "Jzl_iRp7wgh1",
    "outputId": "9cb2ee59-ba93-4d1d-868d-71c679f46120"
   },
   "outputs": [
    {
     "data": {
      "text/html": [
       "<div>\n",
       "<style scoped>\n",
       "    .dataframe tbody tr th:only-of-type {\n",
       "        vertical-align: middle;\n",
       "    }\n",
       "\n",
       "    .dataframe tbody tr th {\n",
       "        vertical-align: top;\n",
       "    }\n",
       "\n",
       "    .dataframe thead th {\n",
       "        text-align: right;\n",
       "    }\n",
       "</style>\n",
       "<table border=\"1\" class=\"dataframe\">\n",
       "  <thead>\n",
       "    <tr style=\"text-align: right;\">\n",
       "      <th></th>\n",
       "      <th>dt</th>\n",
       "      <th>AverageTemperature</th>\n",
       "      <th>AverageTemperatureUncertainty</th>\n",
       "      <th>State</th>\n",
       "      <th>Country</th>\n",
       "    </tr>\n",
       "  </thead>\n",
       "  <tbody>\n",
       "    <tr>\n",
       "      <th>0</th>\n",
       "      <td>1855-05-01</td>\n",
       "      <td>25.544</td>\n",
       "      <td>1.171</td>\n",
       "      <td>Acre</td>\n",
       "      <td>Brazil</td>\n",
       "    </tr>\n",
       "    <tr>\n",
       "      <th>1</th>\n",
       "      <td>1855-06-01</td>\n",
       "      <td>24.228</td>\n",
       "      <td>1.103</td>\n",
       "      <td>Acre</td>\n",
       "      <td>Brazil</td>\n",
       "    </tr>\n",
       "    <tr>\n",
       "      <th>2</th>\n",
       "      <td>1855-07-01</td>\n",
       "      <td>24.371</td>\n",
       "      <td>1.044</td>\n",
       "      <td>Acre</td>\n",
       "      <td>Brazil</td>\n",
       "    </tr>\n",
       "    <tr>\n",
       "      <th>3</th>\n",
       "      <td>1855-08-01</td>\n",
       "      <td>25.427</td>\n",
       "      <td>1.073</td>\n",
       "      <td>Acre</td>\n",
       "      <td>Brazil</td>\n",
       "    </tr>\n",
       "    <tr>\n",
       "      <th>4</th>\n",
       "      <td>1855-09-01</td>\n",
       "      <td>25.675</td>\n",
       "      <td>1.014</td>\n",
       "      <td>Acre</td>\n",
       "      <td>Brazil</td>\n",
       "    </tr>\n",
       "    <tr>\n",
       "      <th>5</th>\n",
       "      <td>1855-10-01</td>\n",
       "      <td>25.442</td>\n",
       "      <td>1.179</td>\n",
       "      <td>Acre</td>\n",
       "      <td>Brazil</td>\n",
       "    </tr>\n",
       "    <tr>\n",
       "      <th>6</th>\n",
       "      <td>1855-11-01</td>\n",
       "      <td>25.400</td>\n",
       "      <td>1.064</td>\n",
       "      <td>Acre</td>\n",
       "      <td>Brazil</td>\n",
       "    </tr>\n",
       "    <tr>\n",
       "      <th>7</th>\n",
       "      <td>1855-12-01</td>\n",
       "      <td>24.100</td>\n",
       "      <td>1.718</td>\n",
       "      <td>Acre</td>\n",
       "      <td>Brazil</td>\n",
       "    </tr>\n",
       "    <tr>\n",
       "      <th>8</th>\n",
       "      <td>1856-01-01</td>\n",
       "      <td>25.814</td>\n",
       "      <td>1.159</td>\n",
       "      <td>Acre</td>\n",
       "      <td>Brazil</td>\n",
       "    </tr>\n",
       "    <tr>\n",
       "      <th>9</th>\n",
       "      <td>1856-02-01</td>\n",
       "      <td>24.658</td>\n",
       "      <td>1.147</td>\n",
       "      <td>Acre</td>\n",
       "      <td>Brazil</td>\n",
       "    </tr>\n",
       "  </tbody>\n",
       "</table>\n",
       "</div>"
      ],
      "text/plain": [
       "           dt  AverageTemperature  AverageTemperatureUncertainty State Country\n",
       "0  1855-05-01              25.544                          1.171  Acre  Brazil\n",
       "1  1855-06-01              24.228                          1.103  Acre  Brazil\n",
       "2  1855-07-01              24.371                          1.044  Acre  Brazil\n",
       "3  1855-08-01              25.427                          1.073  Acre  Brazil\n",
       "4  1855-09-01              25.675                          1.014  Acre  Brazil\n",
       "5  1855-10-01              25.442                          1.179  Acre  Brazil\n",
       "6  1855-11-01              25.400                          1.064  Acre  Brazil\n",
       "7  1855-12-01              24.100                          1.718  Acre  Brazil\n",
       "8  1856-01-01              25.814                          1.159  Acre  Brazil\n",
       "9  1856-02-01              24.658                          1.147  Acre  Brazil"
      ]
     },
     "execution_count": 72,
     "metadata": {
      "tags": []
     },
     "output_type": "execute_result"
    }
   ],
   "source": [
    "GlobalLandTemperaturesByState_df.head(10)"
   ]
  },
  {
   "cell_type": "code",
   "execution_count": null,
   "metadata": {
    "colab": {},
    "colab_type": "code",
    "id": "n-mx8WeMdDHR"
   },
   "outputs": [],
   "source": []
  },
  {
   "cell_type": "code",
   "execution_count": 73,
   "metadata": {
    "colab": {
     "base_uri": "https://localhost:8080/",
     "height": 230
    },
    "colab_type": "code",
    "id": "QeSCa6H_xMV7",
    "outputId": "d0887d8c-a461-4fde-da44-1f947ce7361a"
   },
   "outputs": [
    {
     "name": "stdout",
     "output_type": "stream",
     "text": [
      "<class 'pandas.core.frame.DataFrame'>\n",
      "RangeIndex: 645675 entries, 0 to 645674\n",
      "Data columns (total 5 columns):\n",
      " #   Column                         Non-Null Count   Dtype  \n",
      "---  ------                         --------------   -----  \n",
      " 0   dt                             645675 non-null  object \n",
      " 1   AverageTemperature             620027 non-null  float64\n",
      " 2   AverageTemperatureUncertainty  620027 non-null  float64\n",
      " 3   State                          645675 non-null  object \n",
      " 4   Country                        645675 non-null  object \n",
      "dtypes: float64(2), object(3)\n",
      "memory usage: 24.6+ MB\n"
     ]
    }
   ],
   "source": [
    "GlobalLandTemperaturesByState_df.info()"
   ]
  },
  {
   "cell_type": "code",
   "execution_count": 75,
   "metadata": {
    "colab": {
     "base_uri": "https://localhost:8080/",
     "height": 34
    },
    "colab_type": "code",
    "id": "r0XHI45CxX8p",
    "outputId": "e5cc7749-f8aa-4038-9a06-5cd1fe3437bb"
   },
   "outputs": [
    {
     "name": "stdout",
     "output_type": "stream",
     "text": [
      "Le dataframe (GlobalLandTemperaturesByState_df a (645675, 5) lignes et colonnes\n"
     ]
    }
   ],
   "source": [
    "print('Le dataframe (GlobalLandTemperaturesByState_df a {} lignes et colonnes'.format(GlobalLandTemperaturesByState_df.shape))"
   ]
  },
  {
   "cell_type": "code",
   "execution_count": 77,
   "metadata": {
    "colab": {
     "base_uri": "https://localhost:8080/",
     "height": 123
    },
    "colab_type": "code",
    "id": "rWXJzKgryWC9",
    "outputId": "f229cfb8-e617-43b2-a9fa-93ce71f0025d"
   },
   "outputs": [
    {
     "data": {
      "text/plain": [
       "dt                                object\n",
       "AverageTemperature               float64\n",
       "AverageTemperatureUncertainty    float64\n",
       "State                             object\n",
       "Country                           object\n",
       "dtype: object"
      ]
     },
     "execution_count": 77,
     "metadata": {
      "tags": []
     },
     "output_type": "execute_result"
    }
   ],
   "source": [
    "GlobalLandTemperaturesByState_df.dtypes"
   ]
  },
  {
   "cell_type": "code",
   "execution_count": 79,
   "metadata": {
    "colab": {
     "base_uri": "https://localhost:8080/",
     "height": 34
    },
    "colab_type": "code",
    "id": "-csY6l63yjeU",
    "outputId": "a77a8b54-998e-4d4d-856f-f3fffee5ca6c"
   },
   "outputs": [
    {
     "name": "stdout",
     "output_type": "stream",
     "text": [
      "645675\n"
     ]
    }
   ],
   "source": [
    "total=len(GlobalLandTemperaturesByState_df.Country)\n",
    "print(total)"
   ]
  },
  {
   "cell_type": "code",
   "execution_count": 80,
   "metadata": {
    "colab": {
     "base_uri": "https://localhost:8080/",
     "height": 34
    },
    "colab_type": "code",
    "id": "suaj6HpbyyRE",
    "outputId": "2d18faca-54d4-4d35-934b-eafe18346d9f"
   },
   "outputs": [
    {
     "name": "stdout",
     "output_type": "stream",
     "text": [
      "645675\n"
     ]
    }
   ],
   "source": [
    "total=len(GlobalLandTemperaturesByState_df.AverageTemperature)\n",
    "print(total)"
   ]
  },
  {
   "cell_type": "code",
   "execution_count": 81,
   "metadata": {
    "colab": {
     "base_uri": "https://localhost:8080/",
     "height": 34
    },
    "colab_type": "code",
    "id": "6YkowZRXy4NC",
    "outputId": "6e2e46be-252d-461b-d874-cc0b1d26514f"
   },
   "outputs": [
    {
     "name": "stdout",
     "output_type": "stream",
     "text": [
      "645675\n"
     ]
    }
   ],
   "source": [
    "total=len(GlobalLandTemperaturesByState_df.AverageTemperatureUncertainty)\n",
    "print(total)"
   ]
  },
  {
   "cell_type": "code",
   "execution_count": 82,
   "metadata": {
    "colab": {
     "base_uri": "https://localhost:8080/",
     "height": 52
    },
    "colab_type": "code",
    "id": "tBGnhNbnzGMV",
    "outputId": "71e9abaa-5c3a-4198-9264-c02979fda83f"
   },
   "outputs": [
    {
     "data": {
      "text/plain": [
       "array(['Brazil', 'Russia', 'United States', 'Canada', 'India', 'China',\n",
       "       'Australia'], dtype=object)"
      ]
     },
     "execution_count": 82,
     "metadata": {
      "tags": []
     },
     "output_type": "execute_result"
    }
   ],
   "source": [
    "pd.unique(GlobalLandTemperaturesByState_df.Country)"
   ]
  },
  {
   "cell_type": "code",
   "execution_count": 83,
   "metadata": {
    "colab": {
     "base_uri": "https://localhost:8080/",
     "height": 70
    },
    "colab_type": "code",
    "id": "w-mZjYfyzQHa",
    "outputId": "ed2349db-b14a-4a16-928e-23f8cc103597"
   },
   "outputs": [
    {
     "name": "stdout",
     "output_type": "stream",
     "text": [
      "temperature moyenne= 8.993110777433778\n",
      "temperature médiane= 11.199000000000002\n",
      "temperature écart types 13.772150257168715\n"
     ]
    }
   ],
   "source": [
    "print('temperature moyenne=',GlobalLandTemperaturesByState_df.AverageTemperature.mean())\n",
    "print('temperature médiane=',GlobalLandTemperaturesByState_df.AverageTemperature.median())\n",
    "print('temperature écart types',GlobalLandTemperaturesByState_df.AverageTemperature.std())"
   ]
  },
  {
   "cell_type": "code",
   "execution_count": 84,
   "metadata": {
    "colab": {
     "base_uri": "https://localhost:8080/",
     "height": 34
    },
    "colab_type": "code",
    "id": "hlNjkBmtzbqc",
    "outputId": "4ce93a99-42b0-416b-efd3-e1cacc08bd5f"
   },
   "outputs": [
    {
     "name": "stdout",
     "output_type": "stream",
     "text": [
      "7\n"
     ]
    }
   ],
   "source": [
    "total_number=len(pd.unique(GlobalLandTemperaturesByState_df.Country))\n",
    "print(total_number)"
   ]
  },
  {
   "cell_type": "code",
   "execution_count": 85,
   "metadata": {
    "colab": {
     "base_uri": "https://localhost:8080/",
     "height": 34
    },
    "colab_type": "code",
    "id": "IUqEkBCSzzK-",
    "outputId": "17273919-64bb-4253-92b1-332782debfc4"
   },
   "outputs": [
    {
     "name": "stdout",
     "output_type": "stream",
     "text": [
      "8041\n"
     ]
    }
   ],
   "source": [
    "total_number=len(pd.unique(GlobalLandTemperaturesByState_df.AverageTemperatureUncertainty))\n",
    "print(total_number)"
   ]
  },
  {
   "cell_type": "code",
   "execution_count": 86,
   "metadata": {
    "colab": {
     "base_uri": "https://localhost:8080/",
     "height": 34
    },
    "colab_type": "code",
    "id": "TEo6vA1kz5ee",
    "outputId": "8152472f-b5be-4329-d189-a6eca8cfbe58"
   },
   "outputs": [
    {
     "name": "stdout",
     "output_type": "stream",
     "text": [
      "100002\n"
     ]
    }
   ],
   "source": [
    "total_number=len(pd.unique(GlobalLandTemperaturesByState_df.AverageTemperature))\n",
    "print(total_number)"
   ]
  },
  {
   "cell_type": "code",
   "execution_count": 87,
   "metadata": {
    "colab": {
     "base_uri": "https://localhost:8080/",
     "height": 296
    },
    "colab_type": "code",
    "id": "JlUfU9980Vhs",
    "outputId": "b439f224-034f-47cd-85a1-8eab196233c5"
   },
   "outputs": [
    {
     "data": {
      "text/plain": [
       "<matplotlib.axes._subplots.AxesSubplot at 0x7fad035970b8>"
      ]
     },
     "execution_count": 87,
     "metadata": {
      "tags": []
     },
     "output_type": "execute_result"
    },
    {
     "data": {
      "image/png": "[encoded data removed]",
      "text/plain": [
       "<Figure size 432x288 with 1 Axes>"
      ]
     },
     "metadata": {
      "needs_background": "light",
      "tags": []
     },
     "output_type": "display_data"
    }
   ],
   "source": [
    "sns.distplot(GlobalLandTemperaturesByState_df.AverageTemperature,kde=False,bins=20)"
   ]
  },
  {
   "cell_type": "code",
   "execution_count": 88,
   "metadata": {
    "colab": {
     "base_uri": "https://localhost:8080/",
     "height": 296
    },
    "colab_type": "code",
    "id": "3D_Zf0A40cvH",
    "outputId": "1433ecda-965d-438c-9156-c1fdebeab74c"
   },
   "outputs": [
    {
     "data": {
      "text/plain": [
       "<matplotlib.axes._subplots.AxesSubplot at 0x7fad03a20b00>"
      ]
     },
     "execution_count": 88,
     "metadata": {
      "tags": []
     },
     "output_type": "execute_result"
    },
    {
     "data": {
      "image/png": "[encoded data removed]",
      "text/plain": [
       "<Figure size 432x288 with 1 Axes>"
      ]
     },
     "metadata": {
      "needs_background": "light",
      "tags": []
     },
     "output_type": "display_data"
    }
   ],
   "source": [
    "sns.distplot(GlobalLandTemperaturesByState_df.AverageTemperatureUncertainty,kde=False,bins=20)"
   ]
  },
  {
   "cell_type": "code",
   "execution_count": 92,
   "metadata": {
    "colab": {},
    "colab_type": "code",
    "id": "QtgKT55X0jcL"
   },
   "outputs": [],
   "source": [
    "GlobalTemperatures_df = pd.read_csv('GlobalTemperatures.csv', sep=',')"
   ]
  },
  {
   "cell_type": "code",
   "execution_count": 93,
   "metadata": {
    "colab": {
     "base_uri": "https://localhost:8080/",
     "height": 534
    },
    "colab_type": "code",
    "id": "BX_0WCBoPakd",
    "outputId": "f09aa108-9f9c-4497-98da-912e8fb83132"
   },
   "outputs": [
    {
     "data": {
      "text/html": [
       "<div>\n",
       "<style scoped>\n",
       "    .dataframe tbody tr th:only-of-type {\n",
       "        vertical-align: middle;\n",
       "    }\n",
       "\n",
       "    .dataframe tbody tr th {\n",
       "        vertical-align: top;\n",
       "    }\n",
       "\n",
       "    .dataframe thead th {\n",
       "        text-align: right;\n",
       "    }\n",
       "</style>\n",
       "<table border=\"1\" class=\"dataframe\">\n",
       "  <thead>\n",
       "    <tr style=\"text-align: right;\">\n",
       "      <th></th>\n",
       "      <th>dt</th>\n",
       "      <th>LandAverageTemperature</th>\n",
       "      <th>LandAverageTemperatureUncertainty</th>\n",
       "      <th>LandMaxTemperature</th>\n",
       "      <th>LandMaxTemperatureUncertainty</th>\n",
       "      <th>LandMinTemperature</th>\n",
       "      <th>LandMinTemperatureUncertainty</th>\n",
       "      <th>LandAndOceanAverageTemperature</th>\n",
       "      <th>LandAndOceanAverageTemperatureUncertainty</th>\n",
       "    </tr>\n",
       "  </thead>\n",
       "  <tbody>\n",
       "    <tr>\n",
       "      <th>0</th>\n",
       "      <td>1750-01-01</td>\n",
       "      <td>3.034</td>\n",
       "      <td>3.574</td>\n",
       "      <td>NaN</td>\n",
       "      <td>NaN</td>\n",
       "      <td>NaN</td>\n",
       "      <td>NaN</td>\n",
       "      <td>NaN</td>\n",
       "      <td>NaN</td>\n",
       "    </tr>\n",
       "    <tr>\n",
       "      <th>1</th>\n",
       "      <td>1750-02-01</td>\n",
       "      <td>3.083</td>\n",
       "      <td>3.702</td>\n",
       "      <td>NaN</td>\n",
       "      <td>NaN</td>\n",
       "      <td>NaN</td>\n",
       "      <td>NaN</td>\n",
       "      <td>NaN</td>\n",
       "      <td>NaN</td>\n",
       "    </tr>\n",
       "    <tr>\n",
       "      <th>2</th>\n",
       "      <td>1750-03-01</td>\n",
       "      <td>5.626</td>\n",
       "      <td>3.076</td>\n",
       "      <td>NaN</td>\n",
       "      <td>NaN</td>\n",
       "      <td>NaN</td>\n",
       "      <td>NaN</td>\n",
       "      <td>NaN</td>\n",
       "      <td>NaN</td>\n",
       "    </tr>\n",
       "    <tr>\n",
       "      <th>3</th>\n",
       "      <td>1750-04-01</td>\n",
       "      <td>8.490</td>\n",
       "      <td>2.451</td>\n",
       "      <td>NaN</td>\n",
       "      <td>NaN</td>\n",
       "      <td>NaN</td>\n",
       "      <td>NaN</td>\n",
       "      <td>NaN</td>\n",
       "      <td>NaN</td>\n",
       "    </tr>\n",
       "    <tr>\n",
       "      <th>4</th>\n",
       "      <td>1750-05-01</td>\n",
       "      <td>11.573</td>\n",
       "      <td>2.072</td>\n",
       "      <td>NaN</td>\n",
       "      <td>NaN</td>\n",
       "      <td>NaN</td>\n",
       "      <td>NaN</td>\n",
       "      <td>NaN</td>\n",
       "      <td>NaN</td>\n",
       "    </tr>\n",
       "    <tr>\n",
       "      <th>5</th>\n",
       "      <td>1750-06-01</td>\n",
       "      <td>12.937</td>\n",
       "      <td>1.724</td>\n",
       "      <td>NaN</td>\n",
       "      <td>NaN</td>\n",
       "      <td>NaN</td>\n",
       "      <td>NaN</td>\n",
       "      <td>NaN</td>\n",
       "      <td>NaN</td>\n",
       "    </tr>\n",
       "    <tr>\n",
       "      <th>6</th>\n",
       "      <td>1750-07-01</td>\n",
       "      <td>15.868</td>\n",
       "      <td>1.911</td>\n",
       "      <td>NaN</td>\n",
       "      <td>NaN</td>\n",
       "      <td>NaN</td>\n",
       "      <td>NaN</td>\n",
       "      <td>NaN</td>\n",
       "      <td>NaN</td>\n",
       "    </tr>\n",
       "    <tr>\n",
       "      <th>7</th>\n",
       "      <td>1750-08-01</td>\n",
       "      <td>14.750</td>\n",
       "      <td>2.231</td>\n",
       "      <td>NaN</td>\n",
       "      <td>NaN</td>\n",
       "      <td>NaN</td>\n",
       "      <td>NaN</td>\n",
       "      <td>NaN</td>\n",
       "      <td>NaN</td>\n",
       "    </tr>\n",
       "    <tr>\n",
       "      <th>8</th>\n",
       "      <td>1750-09-01</td>\n",
       "      <td>11.413</td>\n",
       "      <td>2.637</td>\n",
       "      <td>NaN</td>\n",
       "      <td>NaN</td>\n",
       "      <td>NaN</td>\n",
       "      <td>NaN</td>\n",
       "      <td>NaN</td>\n",
       "      <td>NaN</td>\n",
       "    </tr>\n",
       "    <tr>\n",
       "      <th>9</th>\n",
       "      <td>1750-10-01</td>\n",
       "      <td>6.367</td>\n",
       "      <td>2.668</td>\n",
       "      <td>NaN</td>\n",
       "      <td>NaN</td>\n",
       "      <td>NaN</td>\n",
       "      <td>NaN</td>\n",
       "      <td>NaN</td>\n",
       "      <td>NaN</td>\n",
       "    </tr>\n",
       "  </tbody>\n",
       "</table>\n",
       "</div>"
      ],
      "text/plain": [
       "           dt  ...  LandAndOceanAverageTemperatureUncertainty\n",
       "0  1750-01-01  ...                                        NaN\n",
       "1  1750-02-01  ...                                        NaN\n",
       "2  1750-03-01  ...                                        NaN\n",
       "3  1750-04-01  ...                                        NaN\n",
       "4  1750-05-01  ...                                        NaN\n",
       "5  1750-06-01  ...                                        NaN\n",
       "6  1750-07-01  ...                                        NaN\n",
       "7  1750-08-01  ...                                        NaN\n",
       "8  1750-09-01  ...                                        NaN\n",
       "9  1750-10-01  ...                                        NaN\n",
       "\n",
       "[10 rows x 9 columns]"
      ]
     },
     "execution_count": 93,
     "metadata": {
      "tags": []
     },
     "output_type": "execute_result"
    }
   ],
   "source": [
    "GlobalTemperatures_df.head(10)"
   ]
  },
  {
   "cell_type": "code",
   "execution_count": 94,
   "metadata": {
    "colab": {
     "base_uri": "https://localhost:8080/",
     "height": 301
    },
    "colab_type": "code",
    "id": "x8xx818TP3NN",
    "outputId": "a02f5949-96e9-4d4b-debc-29ac72be3893"
   },
   "outputs": [
    {
     "name": "stdout",
     "output_type": "stream",
     "text": [
      "<class 'pandas.core.frame.DataFrame'>\n",
      "RangeIndex: 3192 entries, 0 to 3191\n",
      "Data columns (total 9 columns):\n",
      " #   Column                                     Non-Null Count  Dtype  \n",
      "---  ------                                     --------------  -----  \n",
      " 0   dt                                         3192 non-null   object \n",
      " 1   LandAverageTemperature                     3180 non-null   float64\n",
      " 2   LandAverageTemperatureUncertainty          3180 non-null   float64\n",
      " 3   LandMaxTemperature                         1992 non-null   float64\n",
      " 4   LandMaxTemperatureUncertainty              1992 non-null   float64\n",
      " 5   LandMinTemperature                         1992 non-null   float64\n",
      " 6   LandMinTemperatureUncertainty              1992 non-null   float64\n",
      " 7   LandAndOceanAverageTemperature             1992 non-null   float64\n",
      " 8   LandAndOceanAverageTemperatureUncertainty  1992 non-null   float64\n",
      "dtypes: float64(8), object(1)\n",
      "memory usage: 224.6+ KB\n"
     ]
    }
   ],
   "source": [
    "GlobalTemperatures_df.info()"
   ]
  },
  {
   "cell_type": "code",
   "execution_count": 96,
   "metadata": {
    "colab": {
     "base_uri": "https://localhost:8080/",
     "height": 34
    },
    "colab_type": "code",
    "id": "IkRBVPrzQUs5",
    "outputId": "408388d1-a935-40df-9588-a3ead87e23ac"
   },
   "outputs": [
    {
     "name": "stdout",
     "output_type": "stream",
     "text": [
      "Le dataframe (GlobalTemperatures_df a (3192, 9) lignes et colonnes\n"
     ]
    }
   ],
   "source": [
    "print('Le dataframe (GlobalTemperatures_df a {} lignes et colonnes'.format(GlobalTemperatures_df.shape))"
   ]
  },
  {
   "cell_type": "code",
   "execution_count": null,
   "metadata": {
    "colab": {},
    "colab_type": "code",
    "id": "Pw6AlfNZRplC"
   },
   "outputs": [],
   "source": []
  },
  {
   "cell_type": "code",
   "execution_count": 97,
   "metadata": {
    "colab": {
     "base_uri": "https://localhost:8080/",
     "height": 70
    },
    "colab_type": "code",
    "id": "RI7D9MskQaOO",
    "outputId": "0c98501b-c908-4e22-c83f-aa0cfc982639"
   },
   "outputs": [
    {
     "name": "stdout",
     "output_type": "stream",
     "text": [
      "temperature moyenne= 8.374731132075466\n",
      "temperature médiane= 8.610499999999998\n",
      "temperature écart types 4.381309770725171\n"
     ]
    }
   ],
   "source": [
    "print('temperature moyenne=',GlobalTemperatures_df.LandAverageTemperature.mean())\n",
    "print('temperature médiane=',GlobalTemperatures_df.LandAverageTemperature.median())\n",
    "print('temperature écart types',GlobalTemperatures_df.LandAverageTemperature.std())"
   ]
  },
  {
   "cell_type": "code",
   "execution_count": 98,
   "metadata": {
    "colab": {
     "base_uri": "https://localhost:8080/",
     "height": 70
    },
    "colab_type": "code",
    "id": "gH-q63v_RaXP",
    "outputId": "5101dde5-ad3d-47bf-91b4-e60580f08289"
   },
   "outputs": [
    {
     "name": "stdout",
     "output_type": "stream",
     "text": [
      "temperature moyenne= 0.9384679245283027\n",
      "temperature médiane= 0.392\n",
      "temperature écart types 1.0964397949200602\n"
     ]
    }
   ],
   "source": [
    "print('temperature moyenne=',GlobalTemperatures_df.LandAverageTemperatureUncertainty.mean())\n",
    "print('temperature médiane=',GlobalTemperatures_df.LandAverageTemperatureUncertainty.median())\n",
    "print('temperature écart types',GlobalTemperatures_df.LandAverageTemperatureUncertainty.std())"
   ]
  },
  {
   "cell_type": "code",
   "execution_count": 107,
   "metadata": {
    "colab": {
     "base_uri": "https://localhost:8080/",
     "height": 34
    },
    "colab_type": "code",
    "id": "0U6hhDyhRmV0",
    "outputId": "3a54d87c-7681-4646-9ce0-b3df9882016b"
   },
   "outputs": [
    {
     "name": "stdout",
     "output_type": "stream",
     "text": [
      "8.343247180451128\n"
     ]
    }
   ],
   "source": [
    "pourcentate=GlobalTemperatures_df.LandAverageTemperature.sum()/len(GlobalTemperatures_df.LandAverageTemperature)\n",
    "print(pourcentate)"
   ]
  },
  {
   "cell_type": "code",
   "execution_count": 108,
   "metadata": {
    "colab": {
     "base_uri": "https://localhost:8080/",
     "height": 34
    },
    "colab_type": "code",
    "id": "Xrvd_1cbTjO6",
    "outputId": "8f786188-117a-4052-b783-704feb5d1d86"
   },
   "outputs": [
    {
     "name": "stdout",
     "output_type": "stream",
     "text": [
      "0.9349398496240602\n"
     ]
    }
   ],
   "source": [
    "pourcentate=GlobalTemperatures_df.LandAverageTemperatureUncertainty.sum()/len(GlobalTemperatures_df.LandAverageTemperatureUncertainty)\n",
    "print(pourcentate)"
   ]
  },
  {
   "cell_type": "code",
   "execution_count": 110,
   "metadata": {
    "colab": {
     "base_uri": "https://localhost:8080/",
     "height": 34
    },
    "colab_type": "code",
    "id": "hJgOptVjTy-l",
    "outputId": "d524248d-1874-4da6-f55a-b69aabf8934c"
   },
   "outputs": [
    {
     "name": "stdout",
     "output_type": "stream",
     "text": [
      "8.955638157894738\n"
     ]
    }
   ],
   "source": [
    "pourcentate=GlobalTemperatures_df.LandMaxTemperature.sum()/len(GlobalTemperatures_df.LandMaxTemperature)\n",
    "print(pourcentate)"
   ]
  },
  {
   "cell_type": "code",
   "execution_count": 112,
   "metadata": {
    "colab": {
     "base_uri": "https://localhost:8080/",
     "height": 34
    },
    "colab_type": "code",
    "id": "ZHs6KxQQT7td",
    "outputId": "d9acc39b-14cf-4caa-966a-b9b062e2d2e0"
   },
   "outputs": [
    {
     "name": "stdout",
     "output_type": "stream",
     "text": [
      "0.2994125939849624\n"
     ]
    }
   ],
   "source": [
    "pourcentate=GlobalTemperatures_df.LandMaxTemperatureUncertainty.sum()/len(GlobalTemperatures_df.LandMaxTemperatureUncertainty)\n",
    "print(pourcentate)"
   ]
  },
  {
   "cell_type": "code",
   "execution_count": 113,
   "metadata": {
    "colab": {
     "base_uri": "https://localhost:8080/",
     "height": 34
    },
    "colab_type": "code",
    "id": "Zf6qtW6uUJX2",
    "outputId": "9510f0f0-f9ad-4f0d-edb4-b1fe37388650"
   },
   "outputs": [
    {
     "name": "stdout",
     "output_type": "stream",
     "text": [
      "1.7121685463659149\n"
     ]
    }
   ],
   "source": [
    "pourcentate=GlobalTemperatures_df.LandMinTemperature.sum()/len(GlobalTemperatures_df.LandMinTemperature)\n",
    "print(pourcentate)"
   ]
  },
  {
   "cell_type": "code",
   "execution_count": 115,
   "metadata": {
    "colab": {
     "base_uri": "https://localhost:8080/",
     "height": 34
    },
    "colab_type": "code",
    "id": "Il6rHx9RUS7z",
    "outputId": "0de91316-d4d5-4d3c-e795-861b7ec1d14c"
   },
   "outputs": [
    {
     "name": "stdout",
     "output_type": "stream",
     "text": [
      "0.269499686716792\n"
     ]
    }
   ],
   "source": [
    "pourcentate=GlobalTemperatures_df.LandMinTemperatureUncertainty.sum()/len(GlobalTemperatures_df.LandMinTemperatureUncertainty)\n",
    "print(pourcentate)"
   ]
  },
  {
   "cell_type": "code",
   "execution_count": 116,
   "metadata": {
    "colab": {
     "base_uri": "https://localhost:8080/",
     "height": 34
    },
    "colab_type": "code",
    "id": "kTWYIrIVUnba",
    "outputId": "6976f8a3-2f2f-45e8-84cb-032dfefaa09b"
   },
   "outputs": [
    {
     "name": "stdout",
     "output_type": "stream",
     "text": [
      "9.493556077694235\n"
     ]
    }
   ],
   "source": [
    "pourcentate=GlobalTemperatures_df.LandAndOceanAverageTemperature.sum()/len(GlobalTemperatures_df.LandAndOceanAverageTemperature)\n",
    "print(pourcentate)"
   ]
  },
  {
   "cell_type": "code",
   "execution_count": 117,
   "metadata": {
    "colab": {
     "base_uri": "https://localhost:8080/",
     "height": 34
    },
    "colab_type": "code",
    "id": "NykSs0xFU1xN",
    "outputId": "66cdf3a2-9e95-4828-d8aa-130b3b99556e"
   },
   "outputs": [
    {
     "name": "stdout",
     "output_type": "stream",
     "text": [
      "0.08021177944862155\n"
     ]
    }
   ],
   "source": [
    "pourcentate=GlobalTemperatures_df.LandAndOceanAverageTemperatureUncertainty.sum()/len(GlobalTemperatures_df.LandAndOceanAverageTemperatureUncertainty)\n",
    "print(pourcentate)"
   ]
  },
  {
   "cell_type": "code",
   "execution_count": 127,
   "metadata": {
    "colab": {
     "base_uri": "https://localhost:8080/",
     "height": 307
    },
    "colab_type": "code",
    "id": "wZ0CorNGc5xJ",
    "outputId": "db9c1922-b080-42c5-ac06-d5cae96b3b19"
   },
   "outputs": [
    {
     "data": {
      "text/html": [
       "<div>\n",
       "<style scoped>\n",
       "    .dataframe tbody tr th:only-of-type {\n",
       "        vertical-align: middle;\n",
       "    }\n",
       "\n",
       "    .dataframe tbody tr th {\n",
       "        vertical-align: top;\n",
       "    }\n",
       "\n",
       "    .dataframe thead th {\n",
       "        text-align: right;\n",
       "    }\n",
       "</style>\n",
       "<table border=\"1\" class=\"dataframe\">\n",
       "  <thead>\n",
       "    <tr style=\"text-align: right;\">\n",
       "      <th></th>\n",
       "      <th>LandAverageTemperature</th>\n",
       "      <th>LandAverageTemperatureUncertainty</th>\n",
       "      <th>LandMaxTemperature</th>\n",
       "      <th>LandMaxTemperatureUncertainty</th>\n",
       "      <th>LandMinTemperature</th>\n",
       "      <th>LandMinTemperatureUncertainty</th>\n",
       "      <th>LandAndOceanAverageTemperature</th>\n",
       "      <th>LandAndOceanAverageTemperatureUncertainty</th>\n",
       "    </tr>\n",
       "  </thead>\n",
       "  <tbody>\n",
       "    <tr>\n",
       "      <th>count</th>\n",
       "      <td>3180.000000</td>\n",
       "      <td>3180.000000</td>\n",
       "      <td>1992.000000</td>\n",
       "      <td>1992.000000</td>\n",
       "      <td>1992.000000</td>\n",
       "      <td>1992.000000</td>\n",
       "      <td>1992.000000</td>\n",
       "      <td>1992.000000</td>\n",
       "    </tr>\n",
       "    <tr>\n",
       "      <th>mean</th>\n",
       "      <td>8.374731</td>\n",
       "      <td>0.938468</td>\n",
       "      <td>14.350601</td>\n",
       "      <td>0.479782</td>\n",
       "      <td>2.743595</td>\n",
       "      <td>0.431849</td>\n",
       "      <td>15.212566</td>\n",
       "      <td>0.128532</td>\n",
       "    </tr>\n",
       "    <tr>\n",
       "      <th>std</th>\n",
       "      <td>4.381310</td>\n",
       "      <td>1.096440</td>\n",
       "      <td>4.309579</td>\n",
       "      <td>0.583203</td>\n",
       "      <td>4.155835</td>\n",
       "      <td>0.445838</td>\n",
       "      <td>1.274093</td>\n",
       "      <td>0.073587</td>\n",
       "    </tr>\n",
       "    <tr>\n",
       "      <th>min</th>\n",
       "      <td>-2.080000</td>\n",
       "      <td>0.034000</td>\n",
       "      <td>5.900000</td>\n",
       "      <td>0.044000</td>\n",
       "      <td>-5.407000</td>\n",
       "      <td>0.045000</td>\n",
       "      <td>12.475000</td>\n",
       "      <td>0.042000</td>\n",
       "    </tr>\n",
       "    <tr>\n",
       "      <th>25%</th>\n",
       "      <td>4.312000</td>\n",
       "      <td>0.186750</td>\n",
       "      <td>10.212000</td>\n",
       "      <td>0.142000</td>\n",
       "      <td>-1.334500</td>\n",
       "      <td>0.155000</td>\n",
       "      <td>14.047000</td>\n",
       "      <td>0.063000</td>\n",
       "    </tr>\n",
       "    <tr>\n",
       "      <th>50%</th>\n",
       "      <td>8.610500</td>\n",
       "      <td>0.392000</td>\n",
       "      <td>14.760000</td>\n",
       "      <td>0.252000</td>\n",
       "      <td>2.949500</td>\n",
       "      <td>0.279000</td>\n",
       "      <td>15.251000</td>\n",
       "      <td>0.122000</td>\n",
       "    </tr>\n",
       "    <tr>\n",
       "      <th>75%</th>\n",
       "      <td>12.548250</td>\n",
       "      <td>1.419250</td>\n",
       "      <td>18.451500</td>\n",
       "      <td>0.539000</td>\n",
       "      <td>6.778750</td>\n",
       "      <td>0.458250</td>\n",
       "      <td>16.396250</td>\n",
       "      <td>0.151000</td>\n",
       "    </tr>\n",
       "    <tr>\n",
       "      <th>max</th>\n",
       "      <td>19.021000</td>\n",
       "      <td>7.880000</td>\n",
       "      <td>21.320000</td>\n",
       "      <td>4.373000</td>\n",
       "      <td>9.715000</td>\n",
       "      <td>3.498000</td>\n",
       "      <td>17.611000</td>\n",
       "      <td>0.457000</td>\n",
       "    </tr>\n",
       "  </tbody>\n",
       "</table>\n",
       "</div>"
      ],
      "text/plain": [
       "       LandAverageTemperature  ...  LandAndOceanAverageTemperatureUncertainty\n",
       "count             3180.000000  ...                                1992.000000\n",
       "mean                 8.374731  ...                                   0.128532\n",
       "std                  4.381310  ...                                   0.073587\n",
       "min                 -2.080000  ...                                   0.042000\n",
       "25%                  4.312000  ...                                   0.063000\n",
       "50%                  8.610500  ...                                   0.122000\n",
       "75%                 12.548250  ...                                   0.151000\n",
       "max                 19.021000  ...                                   0.457000\n",
       "\n",
       "[8 rows x 8 columns]"
      ]
     },
     "execution_count": 127,
     "metadata": {
      "tags": []
     },
     "output_type": "execute_result"
    }
   ],
   "source": [
    "GlobalTemperatures_df.describe()"
   ]
  },
  {
   "cell_type": "code",
   "execution_count": 119,
   "metadata": {
    "colab": {
     "base_uri": "https://localhost:8080/",
     "height": 296
    },
    "colab_type": "code",
    "id": "a2SBBI_dVvhk",
    "outputId": "1a953c87-5445-4cef-e96d-584951fbc2ec"
   },
   "outputs": [
    {
     "data": {
      "text/plain": [
       "<matplotlib.axes._subplots.AxesSubplot at 0x7fad0cc400b8>"
      ]
     },
     "execution_count": 119,
     "metadata": {
      "tags": []
     },
     "output_type": "execute_result"
    },
    {
     "data": {
      "image/png": "[encoded data removed]",
      "text/plain": [
       "<Figure size 432x288 with 1 Axes>"
      ]
     },
     "metadata": {
      "needs_background": "light",
      "tags": []
     },
     "output_type": "display_data"
    }
   ],
   "source": [
    "sns.distplot(GlobalTemperatures_df.LandAverageTemperature,kde=False,bins=20)"
   ]
  },
  {
   "cell_type": "code",
   "execution_count": 120,
   "metadata": {
    "colab": {
     "base_uri": "https://localhost:8080/",
     "height": 296
    },
    "colab_type": "code",
    "id": "K-DtmS7NWU4Z",
    "outputId": "b723a630-277f-4408-ec64-5ba1531f810a"
   },
   "outputs": [
    {
     "data": {
      "text/plain": [
       "<matplotlib.axes._subplots.AxesSubplot at 0x7fad0d6896d8>"
      ]
     },
     "execution_count": 120,
     "metadata": {
      "tags": []
     },
     "output_type": "execute_result"
    },
    {
     "data": {
      "image/png": "[encoded data removed]",
      "text/plain": [
       "<Figure size 432x288 with 1 Axes>"
      ]
     },
     "metadata": {
      "needs_background": "light",
      "tags": []
     },
     "output_type": "display_data"
    }
   ],
   "source": [
    "sns.distplot(GlobalTemperatures_df.LandAverageTemperatureUncertainty,kde=False,bins=20)"
   ]
  },
  {
   "cell_type": "code",
   "execution_count": 121,
   "metadata": {
    "colab": {
     "base_uri": "https://localhost:8080/",
     "height": 296
    },
    "colab_type": "code",
    "id": "2GZ_1lOJWclu",
    "outputId": "1a0c09da-3b18-45a7-eaa4-7c47d73ffa65"
   },
   "outputs": [
    {
     "data": {
      "text/plain": [
       "<matplotlib.axes._subplots.AxesSubplot at 0x7fad0d661b38>"
      ]
     },
     "execution_count": 121,
     "metadata": {
      "tags": []
     },
     "output_type": "execute_result"
    },
    {
     "data": {
      "image/png": "[encoded data removed]",
      "text/plain": [
       "<Figure size 432x288 with 1 Axes>"
      ]
     },
     "metadata": {
      "needs_background": "light",
      "tags": []
     },
     "output_type": "display_data"
    }
   ],
   "source": [
    "sns.distplot(GlobalTemperatures_df.LandMaxTemperature,kde=False,bins=20)"
   ]
  },
  {
   "cell_type": "code",
   "execution_count": 122,
   "metadata": {
    "colab": {
     "base_uri": "https://localhost:8080/",
     "height": 296
    },
    "colab_type": "code",
    "id": "uRHYgEPAWpzr",
    "outputId": "7fa32042-f72d-4644-a570-37d061544152"
   },
   "outputs": [
    {
     "data": {
      "text/plain": [
       "<matplotlib.axes._subplots.AxesSubplot at 0x7fad0c4bf630>"
      ]
     },
     "execution_count": 122,
     "metadata": {
      "tags": []
     },
     "output_type": "execute_result"
    },
    {
     "data": {
      "image/png": "[encoded data removed]",
      "text/plain": [
       "<Figure size 432x288 with 1 Axes>"
      ]
     },
     "metadata": {
      "needs_background": "light",
      "tags": []
     },
     "output_type": "display_data"
    }
   ],
   "source": [
    "sns.distplot(GlobalTemperatures_df.LandMaxTemperatureUncertainty,kde=False,bins=20)"
   ]
  },
  {
   "cell_type": "code",
   "execution_count": 123,
   "metadata": {
    "colab": {
     "base_uri": "https://localhost:8080/",
     "height": 296
    },
    "colab_type": "code",
    "id": "s-xgocFDXR9u",
    "outputId": "2c51924a-1ebc-4c6c-8d0d-82bdf29b228a"
   },
   "outputs": [
    {
     "data": {
      "text/plain": [
       "<matplotlib.axes._subplots.AxesSubplot at 0x7fad0ccd34a8>"
      ]
     },
     "execution_count": 123,
     "metadata": {
      "tags": []
     },
     "output_type": "execute_result"
    },
    {
     "data": {
      "image/png": "[encoded data removed]",
      "text/plain": [
       "<Figure size 432x288 with 1 Axes>"
      ]
     },
     "metadata": {
      "needs_background": "light",
      "tags": []
     },
     "output_type": "display_data"
    }
   ],
   "source": [
    "sns.distplot(GlobalTemperatures_df.LandMinTemperature,kde=False,bins=20)"
   ]
  },
  {
   "cell_type": "code",
   "execution_count": 124,
   "metadata": {
    "colab": {
     "base_uri": "https://localhost:8080/",
     "height": 296
    },
    "colab_type": "code",
    "id": "sAolfNAVXcs9",
    "outputId": "356bcf43-2f2e-4394-fb38-6b3177a1be01"
   },
   "outputs": [
    {
     "data": {
      "text/plain": [
       "<matplotlib.axes._subplots.AxesSubplot at 0x7fad0f06f470>"
      ]
     },
     "execution_count": 124,
     "metadata": {
      "tags": []
     },
     "output_type": "execute_result"
    },
    {
     "data": {
      "image/png": "[encoded data removed]",
      "text/plain": [
       "<Figure size 432x288 with 1 Axes>"
      ]
     },
     "metadata": {
      "needs_background": "light",
      "tags": []
     },
     "output_type": "display_data"
    }
   ],
   "source": [
    "sns.distplot(GlobalTemperatures_df.LandMinTemperatureUncertainty,kde=False,bins=20)"
   ]
  },
  {
   "cell_type": "code",
   "execution_count": null,
   "metadata": {
    "colab": {},
    "colab_type": "code",
    "id": "MAuM-Z4qX4Jc"
   },
   "outputs": [],
   "source": [
    "Etapes 2 datacleaning des 5 dataset"
   ]
  },
  {
   "cell_type": "code",
   "execution_count": 126,
   "metadata": {
    "colab": {
     "base_uri": "https://localhost:8080/",
     "height": 197
    },
    "colab_type": "code",
    "id": "AbdxEETuZIaF",
    "outputId": "893799b0-4599-4ec6-a23c-07e57c3c61b8"
   },
   "outputs": [
    {
     "data": {
      "text/html": [
       "<div>\n",
       "<style scoped>\n",
       "    .dataframe tbody tr th:only-of-type {\n",
       "        vertical-align: middle;\n",
       "    }\n",
       "\n",
       "    .dataframe tbody tr th {\n",
       "        vertical-align: top;\n",
       "    }\n",
       "\n",
       "    .dataframe thead th {\n",
       "        text-align: right;\n",
       "    }\n",
       "</style>\n",
       "<table border=\"1\" class=\"dataframe\">\n",
       "  <thead>\n",
       "    <tr style=\"text-align: right;\">\n",
       "      <th></th>\n",
       "      <th>dt</th>\n",
       "      <th>AverageTemperature</th>\n",
       "      <th>AverageTemperatureUncertainty</th>\n",
       "      <th>City</th>\n",
       "      <th>Country</th>\n",
       "      <th>Latitude</th>\n",
       "      <th>Longitude</th>\n",
       "    </tr>\n",
       "  </thead>\n",
       "  <tbody>\n",
       "    <tr>\n",
       "      <th>0</th>\n",
       "      <td>1743-11-01</td>\n",
       "      <td>6.068</td>\n",
       "      <td>1.737</td>\n",
       "      <td>Århus</td>\n",
       "      <td>Denmark</td>\n",
       "      <td>57.05N</td>\n",
       "      <td>10.33E</td>\n",
       "    </tr>\n",
       "    <tr>\n",
       "      <th>1</th>\n",
       "      <td>1743-12-01</td>\n",
       "      <td>NaN</td>\n",
       "      <td>NaN</td>\n",
       "      <td>Århus</td>\n",
       "      <td>Denmark</td>\n",
       "      <td>57.05N</td>\n",
       "      <td>10.33E</td>\n",
       "    </tr>\n",
       "    <tr>\n",
       "      <th>2</th>\n",
       "      <td>1744-01-01</td>\n",
       "      <td>NaN</td>\n",
       "      <td>NaN</td>\n",
       "      <td>Århus</td>\n",
       "      <td>Denmark</td>\n",
       "      <td>57.05N</td>\n",
       "      <td>10.33E</td>\n",
       "    </tr>\n",
       "    <tr>\n",
       "      <th>3</th>\n",
       "      <td>1744-02-01</td>\n",
       "      <td>NaN</td>\n",
       "      <td>NaN</td>\n",
       "      <td>Århus</td>\n",
       "      <td>Denmark</td>\n",
       "      <td>57.05N</td>\n",
       "      <td>10.33E</td>\n",
       "    </tr>\n",
       "    <tr>\n",
       "      <th>4</th>\n",
       "      <td>1744-03-01</td>\n",
       "      <td>NaN</td>\n",
       "      <td>NaN</td>\n",
       "      <td>Århus</td>\n",
       "      <td>Denmark</td>\n",
       "      <td>57.05N</td>\n",
       "      <td>10.33E</td>\n",
       "    </tr>\n",
       "  </tbody>\n",
       "</table>\n",
       "</div>"
      ],
      "text/plain": [
       "           dt  AverageTemperature  ...  Latitude Longitude\n",
       "0  1743-11-01               6.068  ...    57.05N    10.33E\n",
       "1  1743-12-01                 NaN  ...    57.05N    10.33E\n",
       "2  1744-01-01                 NaN  ...    57.05N    10.33E\n",
       "3  1744-02-01                 NaN  ...    57.05N    10.33E\n",
       "4  1744-03-01                 NaN  ...    57.05N    10.33E\n",
       "\n",
       "[5 rows x 7 columns]"
      ]
     },
     "execution_count": 126,
     "metadata": {
      "tags": []
     },
     "output_type": "execute_result"
    }
   ],
   "source": [
    "GlobalLandTemperaturesByCity_df.head()"
   ]
  },
  {
   "cell_type": "code",
   "execution_count": 130,
   "metadata": {
    "colab": {
     "base_uri": "https://localhost:8080/",
     "height": 406
    },
    "colab_type": "code",
    "id": "BrrchRt_awSN",
    "outputId": "9851821d-a3cb-4371-8d83-92e91ce4973b"
   },
   "outputs": [
    {
     "data": {
      "text/html": [
       "<div>\n",
       "<style scoped>\n",
       "    .dataframe tbody tr th:only-of-type {\n",
       "        vertical-align: middle;\n",
       "    }\n",
       "\n",
       "    .dataframe tbody tr th {\n",
       "        vertical-align: top;\n",
       "    }\n",
       "\n",
       "    .dataframe thead th {\n",
       "        text-align: right;\n",
       "    }\n",
       "</style>\n",
       "<table border=\"1\" class=\"dataframe\">\n",
       "  <thead>\n",
       "    <tr style=\"text-align: right;\">\n",
       "      <th></th>\n",
       "      <th>dt</th>\n",
       "      <th>AverageTemperatureUncertainty</th>\n",
       "      <th>City</th>\n",
       "      <th>Country</th>\n",
       "      <th>Latitude</th>\n",
       "      <th>Longitude</th>\n",
       "    </tr>\n",
       "  </thead>\n",
       "  <tbody>\n",
       "    <tr>\n",
       "      <th>0</th>\n",
       "      <td>1743-11-01</td>\n",
       "      <td>1.737</td>\n",
       "      <td>Århus</td>\n",
       "      <td>Denmark</td>\n",
       "      <td>57.05N</td>\n",
       "      <td>10.33E</td>\n",
       "    </tr>\n",
       "    <tr>\n",
       "      <th>1</th>\n",
       "      <td>1743-12-01</td>\n",
       "      <td>NaN</td>\n",
       "      <td>Århus</td>\n",
       "      <td>Denmark</td>\n",
       "      <td>57.05N</td>\n",
       "      <td>10.33E</td>\n",
       "    </tr>\n",
       "    <tr>\n",
       "      <th>2</th>\n",
       "      <td>1744-01-01</td>\n",
       "      <td>NaN</td>\n",
       "      <td>Århus</td>\n",
       "      <td>Denmark</td>\n",
       "      <td>57.05N</td>\n",
       "      <td>10.33E</td>\n",
       "    </tr>\n",
       "    <tr>\n",
       "      <th>3</th>\n",
       "      <td>1744-02-01</td>\n",
       "      <td>NaN</td>\n",
       "      <td>Århus</td>\n",
       "      <td>Denmark</td>\n",
       "      <td>57.05N</td>\n",
       "      <td>10.33E</td>\n",
       "    </tr>\n",
       "    <tr>\n",
       "      <th>4</th>\n",
       "      <td>1744-03-01</td>\n",
       "      <td>NaN</td>\n",
       "      <td>Århus</td>\n",
       "      <td>Denmark</td>\n",
       "      <td>57.05N</td>\n",
       "      <td>10.33E</td>\n",
       "    </tr>\n",
       "    <tr>\n",
       "      <th>...</th>\n",
       "      <td>...</td>\n",
       "      <td>...</td>\n",
       "      <td>...</td>\n",
       "      <td>...</td>\n",
       "      <td>...</td>\n",
       "      <td>...</td>\n",
       "    </tr>\n",
       "    <tr>\n",
       "      <th>8599207</th>\n",
       "      <td>2013-05-01</td>\n",
       "      <td>0.236</td>\n",
       "      <td>Zwolle</td>\n",
       "      <td>Netherlands</td>\n",
       "      <td>52.24N</td>\n",
       "      <td>5.26E</td>\n",
       "    </tr>\n",
       "    <tr>\n",
       "      <th>8599208</th>\n",
       "      <td>2013-06-01</td>\n",
       "      <td>0.261</td>\n",
       "      <td>Zwolle</td>\n",
       "      <td>Netherlands</td>\n",
       "      <td>52.24N</td>\n",
       "      <td>5.26E</td>\n",
       "    </tr>\n",
       "    <tr>\n",
       "      <th>8599209</th>\n",
       "      <td>2013-07-01</td>\n",
       "      <td>0.193</td>\n",
       "      <td>Zwolle</td>\n",
       "      <td>Netherlands</td>\n",
       "      <td>52.24N</td>\n",
       "      <td>5.26E</td>\n",
       "    </tr>\n",
       "    <tr>\n",
       "      <th>8599210</th>\n",
       "      <td>2013-08-01</td>\n",
       "      <td>0.298</td>\n",
       "      <td>Zwolle</td>\n",
       "      <td>Netherlands</td>\n",
       "      <td>52.24N</td>\n",
       "      <td>5.26E</td>\n",
       "    </tr>\n",
       "    <tr>\n",
       "      <th>8599211</th>\n",
       "      <td>2013-09-01</td>\n",
       "      <td>NaN</td>\n",
       "      <td>Zwolle</td>\n",
       "      <td>Netherlands</td>\n",
       "      <td>52.24N</td>\n",
       "      <td>5.26E</td>\n",
       "    </tr>\n",
       "  </tbody>\n",
       "</table>\n",
       "<p>8599212 rows × 6 columns</p>\n",
       "</div>"
      ],
      "text/plain": [
       "                 dt  AverageTemperatureUncertainty  ... Latitude Longitude\n",
       "0        1743-11-01                          1.737  ...   57.05N    10.33E\n",
       "1        1743-12-01                            NaN  ...   57.05N    10.33E\n",
       "2        1744-01-01                            NaN  ...   57.05N    10.33E\n",
       "3        1744-02-01                            NaN  ...   57.05N    10.33E\n",
       "4        1744-03-01                            NaN  ...   57.05N    10.33E\n",
       "...             ...                            ...  ...      ...       ...\n",
       "8599207  2013-05-01                          0.236  ...   52.24N     5.26E\n",
       "8599208  2013-06-01                          0.261  ...   52.24N     5.26E\n",
       "8599209  2013-07-01                          0.193  ...   52.24N     5.26E\n",
       "8599210  2013-08-01                          0.298  ...   52.24N     5.26E\n",
       "8599211  2013-09-01                            NaN  ...   52.24N     5.26E\n",
       "\n",
       "[8599212 rows x 6 columns]"
      ]
     },
     "execution_count": 130,
     "metadata": {
      "tags": []
     },
     "output_type": "execute_result"
    }
   ],
   "source": [
    "d1 = GlobalLandTemperaturesByCity_df\n",
    "d2 = GlobalLandTemperaturesByCity_df\n",
    "X2 = d1.drop([\"AverageTemperature\"], axis=1)\n",
    "X2"
   ]
  },
  {
   "cell_type": "code",
   "execution_count": 135,
   "metadata": {
    "colab": {
     "base_uri": "https://localhost:8080/",
     "height": 406
    },
    "colab_type": "code",
    "id": "8aXYYEbQdy_D",
    "outputId": "3a64bb04-7d70-4da4-ecb4-4eac8f9fa051"
   },
   "outputs": [
    {
     "data": {
      "text/html": [
       "<div>\n",
       "<style scoped>\n",
       "    .dataframe tbody tr th:only-of-type {\n",
       "        vertical-align: middle;\n",
       "    }\n",
       "\n",
       "    .dataframe tbody tr th {\n",
       "        vertical-align: top;\n",
       "    }\n",
       "\n",
       "    .dataframe thead th {\n",
       "        text-align: right;\n",
       "    }\n",
       "</style>\n",
       "<table border=\"1\" class=\"dataframe\">\n",
       "  <thead>\n",
       "    <tr style=\"text-align: right;\">\n",
       "      <th></th>\n",
       "      <th>AverageTemperature</th>\n",
       "    </tr>\n",
       "  </thead>\n",
       "  <tbody>\n",
       "    <tr>\n",
       "      <th>0</th>\n",
       "      <td>6.068</td>\n",
       "    </tr>\n",
       "    <tr>\n",
       "      <th>1</th>\n",
       "      <td>NaN</td>\n",
       "    </tr>\n",
       "    <tr>\n",
       "      <th>2</th>\n",
       "      <td>NaN</td>\n",
       "    </tr>\n",
       "    <tr>\n",
       "      <th>3</th>\n",
       "      <td>NaN</td>\n",
       "    </tr>\n",
       "    <tr>\n",
       "      <th>4</th>\n",
       "      <td>NaN</td>\n",
       "    </tr>\n",
       "    <tr>\n",
       "      <th>...</th>\n",
       "      <td>...</td>\n",
       "    </tr>\n",
       "    <tr>\n",
       "      <th>8599207</th>\n",
       "      <td>11.464</td>\n",
       "    </tr>\n",
       "    <tr>\n",
       "      <th>8599208</th>\n",
       "      <td>15.043</td>\n",
       "    </tr>\n",
       "    <tr>\n",
       "      <th>8599209</th>\n",
       "      <td>18.775</td>\n",
       "    </tr>\n",
       "    <tr>\n",
       "      <th>8599210</th>\n",
       "      <td>18.025</td>\n",
       "    </tr>\n",
       "    <tr>\n",
       "      <th>8599211</th>\n",
       "      <td>NaN</td>\n",
       "    </tr>\n",
       "  </tbody>\n",
       "</table>\n",
       "<p>8599212 rows × 1 columns</p>\n",
       "</div>"
      ],
      "text/plain": [
       "         AverageTemperature\n",
       "0                     6.068\n",
       "1                       NaN\n",
       "2                       NaN\n",
       "3                       NaN\n",
       "4                       NaN\n",
       "...                     ...\n",
       "8599207              11.464\n",
       "8599208              15.043\n",
       "8599209              18.775\n",
       "8599210              18.025\n",
       "8599211                 NaN\n",
       "\n",
       "[8599212 rows x 1 columns]"
      ]
     },
     "execution_count": 135,
     "metadata": {
      "tags": []
     },
     "output_type": "execute_result"
    }
   ],
   "source": [
    "Target2 = d2.drop(['City','Country','Latitude','Longitude','dt','AverageTemperatureUncertainty'], axis=1)\n",
    "Target2"
   ]
  },
  {
   "cell_type": "code",
   "execution_count": null,
   "metadata": {
    "colab": {},
    "colab_type": "code",
    "id": "uCKLkS_1eqIG"
   },
   "outputs": [],
   "source": []
  }
 ],
 "metadata": {
  "colab": {
   "collapsed_sections": [],
   "name": "projet_rechauffement_climatique.ipynb",
   "provenance": []
  },
  "kernelspec": {
   "display_name": "Python 3",
   "language": "python",
   "name": "python3"
  },
  "language_info": {
   "codemirror_mode": {
    "name": "ipython",
    "version": 3
   },
   "file_extension": ".py",
   "mimetype": "text/x-python",
   "name": "python",
   "nbconvert_exporter": "python",
   "pygments_lexer": "ipython3",
   "version": "3.8.3"
  }
 },
 "nbformat": 4,
 "nbformat_minor": 1
}
